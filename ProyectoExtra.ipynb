{
 "cells": [
  {
   "cell_type": "markdown",
   "id": "18a67e67-2a21-4420-95e5-0ded4aebac34",
   "metadata": {},
   "source": [
    "### **<center>Escuela Politécnica Nacional</center>**"
   ]
  },
  {
   "cell_type": "markdown",
   "id": "fd1b7bb3-91c1-4076-b5a7-674b9c51bb9f",
   "metadata": {},
   "source": [
    "### **<center>INTELIGENCIA ARTIFICIAL</center>**"
   ]
  },
  {
   "cell_type": "markdown",
   "id": "cf86e14a-7915-46ba-9cbe-e89072f79b83",
   "metadata": {},
   "source": [
    "### **Informe N14 EXTRA**\n",
    "\n",
    "Nombre: Mateo Sebastian Davalos Renteria"
   ]
  },
  {
   "cell_type": "markdown",
   "id": "91a372e8-cc16-4c51-980c-0fe7a5c7120a",
   "metadata": {},
   "source": [
    "### **<center>WORD2VEC</center>**"
   ]
  },
  {
   "cell_type": "markdown",
   "id": "fd7f56a1-294a-4ed0-a990-70f8e5e03c22",
   "metadata": {},
   "source": [
    "**1. Objetivos**\n",
    "- <div style=\"text-align: justify\">Word2Vec busca crear vectores numéricos para palabras que capturen relaciones semánticas, permitiendo que palabras similares estén cerca en un espacio vectorial.</div>\n",
    "- <div style=\"text-align: justify\">Utilizar las representaciones generadas por Word2Vec como características en modelos de aprendizaje automático para mejorar la precisión en tareas de NLP, como clasificación de texto y traducción automática.</div>\n"
   ]
  },
  {
   "cell_type": "markdown",
   "id": "337dccd1-1ad8-42c3-9faa-cd244fce2ecf",
   "metadata": {},
   "source": [
    "**2. Introducción**"
   ]
  },
  {
   "cell_type": "markdown",
   "id": "34cd5e08-78aa-427c-8d56-1be377cfc0aa",
   "metadata": {},
   "source": [
    "<div style=\"text-align: justify\">Word2Vec es una técnica fundamental en el campo del Procesamiento de Lenguaje Natural (NLP) y la Inteligencia Artificial que se utiliza para representar palabras como vectores numéricos. Desarrollada por Google en 2013, Word2Vec ha revolucionado la forma en que las computadoras comprenden y procesan el lenguaje humano. Esta técnica se basa en la idea de que las palabras que aparecen en contextos similares tienen significados semánticos similares.</div>\n",
    "<div style=\"text-align: justify\">Word2Vec convierte cada palabra en un espacio vectorial, donde palabras similares se encuentran más cerca en este espacio. Esto permite capturar relaciones semánticas entre palabras, como sinónimos y analogías. Estos vectores son ampliamente utilizados en aplicaciones de NLP, como traducción automática, análisis de sentimiento, sistemas de recomendación y chatbots, mejorando significativamente la precisión y eficacia de estas tareas. Word2Vec ha sido una contribución significativa para que las computadoras comprendan mejor el significado y el contexto en el procesamiento del lenguaje natural.</div>"
   ]
  },
  {
   "cell_type": "markdown",
   "id": "3d677482-9a35-4a73-901c-ac8dd700002f",
   "metadata": {
    "tags": []
   },
   "source": [
    "**3. Desarrollo**"
   ]
  },
  {
   "cell_type": "code",
   "execution_count": 1,
   "id": "e6376f15-c197-4af2-b01e-b89fcbc257ab",
   "metadata": {
    "tags": []
   },
   "outputs": [
    {
     "name": "stdout",
     "output_type": "stream",
     "text": [
      "Note: you may need to restart the kernel to use updated packages.\n"
     ]
    }
   ],
   "source": [
    "pip install pypdf2 -q"
   ]
  },
  {
   "cell_type": "code",
   "execution_count": 2,
   "id": "ba9a1e94-9889-4aeb-bb26-608f3a6a0964",
   "metadata": {
    "tags": []
   },
   "outputs": [],
   "source": [
    "import string\n",
    "from gensim.models import Word2Vec\n",
    "import PyPDF2\n",
    "import pandas as pd"
   ]
  },
  {
   "cell_type": "code",
   "execution_count": 3,
   "id": "37985d4a-f784-4560-b255-3f0c8a99b755",
   "metadata": {
    "tags": []
   },
   "outputs": [],
   "source": [
    "with open('Canciones.txt', 'r', encoding= 'utf-8') as file:\n",
    "    documento = file.read()"
   ]
  },
  {
   "cell_type": "code",
   "execution_count": 4,
   "id": "d9dcab56-8ed3-4cb6-9c15-0dc7e59e7ab3",
   "metadata": {
    "tags": []
   },
   "outputs": [
    {
     "data": {
      "text/plain": [
       "'\"Baila, baila sin parar, que la vida es una fiesta.\" - Shakira\\n\"Y es que en tus ojos, yo encuentro la paz.\" - Carlos Vives\\n\"Me enamoré de una sirena en la orilla del mar.\" - Jarabe de Palo\\n\"Si no me quieres, no me martirices, no sigas más.\" - Maná\\n\"Yo te esperaba como la luna espera a la mañana.\" - Ricardo Arjona\\n\"Caminante, no hay camino, se hace camino al andar.\" - Joan Manuel Serrat\\n\"Soy rebelde porque el mundo me ha hecho así.\" - Jeanette\\n\"Esos ojitos bellos que han robado el sol.\" - Los Bunkers\\n\"Y yo sin ti, y tú sin mí, dime quién puede ser feliz.\" - Enrique Iglesias\\n\"Si nos dejan, nos vamos a querer toda la vida.\" - Vicente Fernández\\n\"Ella tiene algo que me atrapa.\" - Marc Anthony\\n\"Amor eterno, e inolvidable, tarde o temprano estaré contigo.\" - Rocío Dúrcal\\n\"Vuela alto, vive libre, sé feliz.\" - La India\\n\"Deja de llorar y vuelves a ser tú.\" - Natalia Lafourcade\\n\"A veces me parece mentira que se me haya metido en la piel.\" - Alejandro Sanz\\n\"Yo te propongo un desliz, a cada rato, a cada paso.\" - Café Tacvba\\n\"Un amor en el aire, como un cometa volador.\" - Mecano\\n\"Te regalo una rosa, la encontré en el camino.\" - Juan Luis Guerra\\n\"Sigue bailando, mami, no pare.\" - Daddy Yankee\\n\"Como una promesa eres tú, eres tú.\" - José Feliciano\\n\"Puedes contar conmigo, para siempre.\" - La Otra\\n\"Vivir mi vida, la la la la.\" - Marc Anthony\\n\"Hoy la luna sale a la misma hora que tú.\" - Joaquín Sabina\\n\"Si no te hubieras ido, sería tan feliz.\" - Marco Antonio Solís\\n\"Me gustas tú, me gustas tú.\" - Manu Chao\\n\"Te llevaré al cielo, como una linda melodía.\" - Juan Gabriel\\n\"Yo no nací para amar, nadie nació para mí.\" - Luis Miguel\\n\"Vuela, vuela alto, como lo hacen los gaviotas.\" - Timbiriche\\n\"Si nos quedara poco tiempo, si se acabara el mundo.\" - Chayanne\\n\"Nada es suficiente, si no estás junto a mí.\" - Shakira\\n\"Despacito, quiero respirar tu cuello despacito.\" - Luis Fonsi\\n\"Por lo que reste de vida, te voy a amar.\" - Marco Antonio Solís\\n\"Amiga, ¿qué te pasa? No has dejado de llorar.\" - Alejandro Sanz\\n\"La vida es un sueño, y los sueños, sueños son.\" - Pedro Infante\\n\"De repente llega alguien que te toma por la mano.\" - Camila\\n\"A veces me pregunto, si alguna vez pensarás en mí.\" - La Quinta Estación\\n\"El sol no regresa y tú sigues aquí.\" - La Quinta Estación\\n\"Hasta que te conocí, vi la vida con dolor.\" - Juan Gabriel\\n\"El amor es una cosa esplendorosa.\" - Rocío Dúrcal\\n\"En un beso, sabrás todo lo que he callado.\" - Pablo Neruda\\n\"Amor completo, invencible.\" - Mon Laferte\\n\"Baila, baila, baila, que la vida es una fiesta.\" - Raffaella Carrà\\n\"El amor es un arte que nace del corazón.\" - El Tri\\n\"Eres tú, mi debilidad, mi adicción.\" - Reik\\n\"Un amor para recordar, algo imposible de olvidar.\" - Alejandro Sanz\\n\"Baila morena, para que mi vida se llene de luz.\" - Sergio Dalma\\n\"Yo no soy esa mujer, que no sale de casa.\" - Paulina Rubio\\n\"Cada día te quiero más, cada día te extraño más.\" - La Mafia\\n\"Eres mi religión, eres mi sol y mi canción.\" - Maná\\n\"No hay amor perfecto, sólo personas que se aman de verdad.\" - Alejandro Sanz\\n\"Bésame mucho, que tengo miedo a perderte.\" - Consuelo Velázquez\\n\"Es mi canción de despedida, el último capítulo.\" - Mecano\\n\"Vivir sin aire, es morir sin saber.\" - Maná\\n\"Que bonita es esta vida, aunque a veces duela tanto.\" - La Fiera de Ojinaga\\n\"Ella y él, dos locos viviendo una pasión.\" - Café Tacvba\\n\"Tú me haces falta, y eso lo sabe Dios.\" - Palomo\\n\"Para siempre, amor mío, para siempre.\" - Vicente Fernández\\n\"Tú eres mi sol, mi alegría, la música de mi corazón.\" - La India\\n\"Ven, báilalo, vuélvelo loco.\" - Wisin & Yandel\\n\"Tu amor es mi piel, tu amor es mi paz.\" - Axel\\n\"Bajo el mismo sol, los mismos gritos.\" - David Bisbal\\n\"Cerca de ti, quiero estar, para siempre.\" - Los Temerarios\\n\"Toda la noche oliendo tu piel, tu boca.\" - Juanes\\n\"Eres mi bendición, mi razón de ser.\" - Luis Fonsi\\n\"La vida es sueño y los sueños, sueños son.\" - Nach\\n\"Un beso y una flor, un te quiero, una caricia.\" - Nino Bravo\\n\"Luchar por ella, ser su abrigo, ser su refugio.\" - Alejandro Sanz\\n\"Nada es igual si no estás, tú eres mi sol.\" - Shakira\\n\"Por ti, todo lo que hago, lo hago por ti.\" - Bryan Adams\\n\"Tú eres mi razón de ser, mi vida, mi amor.\" - Banda MS\\n\"Soy el fuego que arde tu piel, soy el agua que mata tu sed.\" - Enrique Iglesias\\n\"Esa carita que me tiene loco.\" - Romeo Santos\\n\"Esos ojitos bellos que han robado el sol.\" - Los Bunkers\\n\"Mi niña bonita, mi dulce princesita.\" - Chino & Nacho\\n\"Si tu me besas con esa intensidad, no encuentro la forma de devolverte la mitad.\" - Alejandro Sanz\\n\"En tus manos, mi cielo y mi destino.\" - Diego Torres\\n\"De qué me sirve la vida si no estás tú.\" - Shakira\\n\"Y es que tú me enamoraste, desde el día en que te conocí.\" - Juan Gabriel\\n\"Eres mi razón de ser, mi vida, mi amor.\" - Banda MS\\n\"Ella, ella es mi fiesta, y yo soy su amanecer.\" - Café Tacvba\\n\"Por siempre tú y yo, seremos dos gaviotas.\" - Mecano\\n\"Vuela alto, vive libre, sé feliz.\" - La India\\n\"Deja de llorar y vuelves a ser tú.\" - Natalia Lafourcade\\n\"Eres mi bendición, mi razón de ser.\" - Luis Fonsi\\n\"Te regalo una rosa, la encontré en el camino.\" - Juan Luis Guerra\\n\"Sigue bailando, mami, no pare.\" - Daddy Yankee\\n\"Como una promesa eres tú, eres tú.\" - José Feliciano\\n\"Puedes contar conmigo, para siempre.\" - La Otra\\n\"Vivir mi vida, la la la la.\" - Marc Anthony\\n\"Hoy la luna sale a la misma hora que tú.\" - Joaquín Sabina\\n\"Si no te hubieras ido, sería tan feliz.\" - Marco Antonio Solís\\n\"Me gustas tú, me gustas tú.\" - Manu Chao\\n\"Te llevaré al cielo, como una linda melodía.\" - Juan Gabriel\\n\"Yo no nací para amar, nadie nació para mí.\" - Luis Miguel\\n\"Vuela, vuela alto, como lo hacen los gaviotas.\" - Timbiriche\\n\"Si nos quedara poco tiempo, si se acabara el mundo.\" - Chayanne\\n\"Nada es suficiente, si no estás junto a mí.\" - Shakira\\n\"Despacito, quiero respirar tu cuello despacito.\" - Luis Fonsi\\n\"Por lo que reste de vida, te voy a amar.\" - Marco Antonio Solís\\n\"Amiga, ¿qué te pasa? No has dejado de llorar.\" - Alejandro Sanz\\n\"La vida es un sueño, y los sueños, sueños son.\" - Pedro Infante\\n\"De repente llega alguien que te toma por la mano.\" - Camila\\n\"A veces me pregunto, si alguna vez pensarás en mí.\" - La Quinta Estación\\n\"El sol no regresa y tú sigues aquí.\" - La Quinta Estación\\n\"Hasta que te conocí, vi la vida con dolor.\" - Juan Gabriel\\n\"El amor es una cosa esplendorosa.\" - Rocío Dúrcal\\n\"En un beso, sabrás todo lo que he callado.\" - Pablo Neruda\\n\"Amor completo, invencible.\" - Mon Laferte\\n\"Baila, baila, baila, que la vida es una fiesta.\" - Raffaella Carrà\\n\"El amor es un arte que nace del corazón.\" - El Tri\\n\"Eres tú, mi debilidad, mi adicción.\" - Reik\\n\"Un amor para recordar, algo imposible de olvidar.\" - Alejandro Sanz\\n\"Baila morena, para que mi vida se llene de luz.\" - Sergio Dalma\\n\"Yo no soy esa mujer, que no sale de casa.\" - Paulina Rubio\\n\"Cada día te quiero más, cada día te extraño más.\" - La Mafia\\n\"Eres mi religión, eres mi sol y mi canción.\" - Maná\\n\"No hay amor perfecto, sólo personas que se aman de verdad.\" - Alejandro Sanz\\n\"Bésame mucho, que tengo miedo a perderte.\" - Consuelo Velázquez\\n\"Es mi canción de despedida, el último capítulo.\" - Mecano\\n\"Vivir sin aire, es morir sin saber.\" - Maná\\n\"Que bonita es esta vida, aunque a veces duela tanto.\" - La Fiera de Ojinaga\\n\"Ella y él, dos locos viviendo una pasión.\" - Café Tacvba\\n\"Toda la noche oliendo tu piel, tu boca.\" - Juanes\\n\"Eres mi bendición, mi razón de ser.\" - Luis Fonsi\\n\"La vida es sueño y los sueños, sueños son.\" - Nach\\n\"Un beso y una flor, un te quiero, una caricia.\" - Nino Bravo\\n\"Luchar por ella, ser su abrigo, ser su refugio.\" - Alejandro Sanz\\n\"Nada es igual si no estás, tú eres mi sol.\" - Shakira\\n\"Por ti, todo lo que hago, lo hago por ti.\" - Bryan Adams\\n\"Tú eres mi razón de ser, mi vida, mi amor.\" - Banda MS\\n\"Soy el fuego que arde tu piel, soy el agua que mata tu sed.\" - Enrique Iglesias\\n\"Esa carita que me tiene loco.\" - Romeo Santos\\n\"Esos ojitos bellos que han robado el sol.\" - Los Bunkers\\n\"Mi niña bonita, mi dulce princesita.\" - Chino & Nacho\\n\"Si tu me besas con esa intensidad, no encuentro la forma de devolverte la mitad.\" - Alejandro Sanz\\n\"En tus manos, mi cielo y mi destino.\" - Diego Torres\\n\"Deja de llorar y vuelves a ser tú.\" - Natalia Lafourcade\\n\"Eres mi bendición, mi razón de ser.\" - Luis Fonsi\\n\"Te regalo una rosa, la encontré en el camino.\" - Juan Luis Guerra\\n\"Sigue bailando, mami, no pare.\" - Daddy Yankee\\n\"Como una promesa eres tú, eres tú.\" - José Feliciano\\n\"Puedes contar conmigo, para siempre.\" - La Otra\\n\"Vivir mi vida, la la la la.\" - Marc Anthony\\n\"Hoy la luna sale a la misma hora que tú.\" - Joaquín Sabina\\n\"Si no te hubieras ido, sería tan feliz.\" - Marco Antonio Solís\\n\"Me gustas tú, me gustas tú.\" - Manu Chao\\n\"Te llevaré al cielo, como una linda melodía.\" - Juan Gabriel\\n\"Yo no nací para amar, nadie nació para mí.\" - Luis Miguel\\n\"Vuela, vuela alto, como lo hacen las gaviotas.\" - Timbiriche\\n\"Si nos quedara poco tiempo, si se acabara el mundo.\" - Chayanne\\n\"Nada es suficiente, si no estás junto a mí.\" - Shakira\\n\"Despacito, quiero respirar tu cuello despacito.\" - Luis Fonsi\\n\"Por lo que reste de vida, te voy a amar.\" - Marco Antonio Solís\\n\"Amiga, ¿qué te pasa? No has dejado de llorar.\" - Alejandro Sanz\\n\"La vida es un sueño, y los sueños, sueños son.\" - Pedro Infante\\n\"De repente llega alguien que te toma por la mano.\" - Camila\\n\"A veces me pregunto, si alguna vez pensarás en mí.\" - La Quinta Estación\\n\"El sol no regresa y tú sigues aquí.\" - La Quinta Estación\\n\"Hasta que te conocí, vi la vida con dolor.\" - Juan Gabriel\\n\"El amor es una cosa esplendorosa.\" - Rocío Dúrcal\\n\"En un beso, sabrás todo lo que he callado.\" - Pablo Neruda\\n\"Amor completo, invencible.\" - Mon Laferte\\n\"Baila, baila, baila, que la vida es una fiesta.\" - Raffaella Carrà\\n\"El amor es un arte que nace del corazón.\" - El Tri\\n\"Eres tú, mi debilidad, mi adicción.\" - Reik\\n\"Un amor para recordar, algo imposible de olvidar.\" - Alejandro Sanz\\n\"Baila morena, para que mi vida se llene de luz.\" - Sergio Dalma\\n\"Yo no soy esa mujer, que no sale de casa.\" - Paulina Rubio\\n\"Cada día te quiero más, cada día te extraño más.\" - La Mafia\\n\"Eres mi religión, eres mi sol y mi canción.\" - Maná\\n\"No hay amor perfecto, sólo personas que se aman de verdad.\" - Alejandro Sanz\\n\"Bésame mucho, que tengo miedo a perderte.\" - Consuelo Velázquez\\n\"Es mi canción de despedida, el último capítulo.\" - Mecano\\n\"Vivir sin aire, es morir sin saber.\" - Maná\\n\"Que bonita es esta vida, aunque a veces duela tanto.\" - La Fiera de Ojinaga\\n\"Ella y él, dos locos viviendo una pasión.\" - Café Tacvba\\n\"Toda la noche oliendo tu piel, tu boca.\" - Juanes\\n\"Eres mi bendición, mi razón de ser.\" - Luis Fonsi\\n\"La vida es sueño y los sueños, sueños son.\" - Nach\\n\"Un beso y una flor, un te quiero, una caricia.\" - Nino Bravo\\n\"Luchar por ella, ser su abrigo, ser su refugio.\" - Alejandro Sanz\\n\"Nada es igual si no estás, tú eres mi sol.\" - Shakira\\n\"Por ti, todo lo que hago, lo hago por ti.\" - Bryan Adams\\n\"Tú eres mi razón de ser, mi vida, mi amor.\" - Banda MS\\n\"Soy el fuego que arde tu piel, soy el agua que mata tu sed.\" - Enrique Iglesias\\n\"Esa carita que me tiene loco.\" - Romeo Santos\\n\"Esos ojitos bellos que han robado el sol.\" - Los Bunkers\\n\"Mi niña bonita, mi dulce princesita.\" - Chino & Nacho\\n\"Si tu me besas con esa intensidad, no encuentro la forma de devolverte la mitad.\" - Alejandro Sanz\\n\"En tus manos, mi cielo y mi destino.\" - Diego Torres\\n\"Deja de llorar y vuelves a ser tú.\" - Natalia Lafourcade\\n\"Eres mi bendición, mi razón de ser.\" - Luis Fonsi\\n\"Te regalo una rosa, la encontré en el camino.\" - Juan Luis Guerra\\n\"Sigue bailando, mami, no pare.\" - Daddy Yankee\\n\"Como una promesa eres tú, eres tú.\" - José Feliciano\\n\"Puedes contar conmigo, para siempre.\" - La Otra\\n\"Vivir mi vida, la la la la.\" - Marc Anthony\\n\"Hoy la luna sale a la misma hora que tú.\" - Joaquín Sabina\\n\"Si no te hubieras ido, sería tan feliz.\" - Marco Antonio Solís\\n\"Me gustas tú, me gustas tú.\" - Manu Chao\\n\"Te llevaré al cielo, como una linda melodía.\" - Juan Gabriel\\n\"Yo no nací para amar, nadie nació para mí.\" - Luis Miguel\\n\"Vuela, vuela alto, como lo hacen las gaviotas.\" - Timbiriche\\n\"Si nos quedara poco tiempo, si se acabara el mundo.\" - Chayanne\\n\"Nada es suficiente, si no estás junto a mí.\" - Shakira\\n\"Despacito, quiero respirar tu cuello despacito.\" - Luis Fonsi\\n\"Por lo que reste de vida, te voy a amar.\" - Marco Antonio Solís\\n\"Amiga, ¿qué te pasa? No has dejado de llorar.\" - Alejandro Sanz\\n\"La vida es un sueño, y los sueños, sueños son.\" - Pedro Infante\\n\"De repente llega alguien que te toma por la mano.\" - Camila\\n\"A veces me pregunto, si alguna vez pensarás en mí.\" - La Quinta Estación\\n\"El sol no regresa y tú sigues aquí.\" - La Quinta Estación\\n\"Hasta que te conocí, vi la vida con dolor.\" - Juan Gabriel\\n\"El amor es una cosa esplendorosa.\" - Rocío Dúrcal\\n\"En un beso, sabrás todo lo que he callado.\" - Pablo Neruda\\n\"Amor completo, invencible.\" - Mon Laferte\\n\"Baila, baila, baila, que la vida es una fiesta.\" - Raffaella Carrà\\n\"El amor es un arte que nace del corazón.\" - El Tri\\n\"Eres tú, mi debilidad, mi adicción.\" - Reik\\n\"Un amor para recordar, algo imposible de olvidar.\" - Alejandro Sanz\\n\"Baila morena, para que mi vida se llene de luz.\" - Sergio Dalma\\n\"Yo no soy esa mujer, que no sale de casa.\" - Paulina Rubio\\n\"Cada día te quiero más, cada día te extraño más.\" - La Mafia\\n\"Eres mi religión, eres mi sol y mi canción.\" - Maná\\n\"No hay amor perfecto, sólo personas que se aman de verdad.\" - Alejandro Sanz\\n\"Bésame mucho, que tengo miedo a perderte.\" - Consuelo Velázquez\\n\"Es mi canción de despedida, el último capítulo.\" - Mecano\\n\"Vivir sin aire, es morir sin saber.\" - Maná\\n\"Que bonita es esta vida, aunque a veces duela tanto.\" - La Fiera de Ojinaga\\n\"Ella y él, dos locos viviendo una pasión.\" - Café Tacvba\\n\"Toda la noche oliendo tu piel, tu boca.\" - Juanes\\n\"Eres mi bendición, mi razón de ser.\" - Luis Fonsi\\n\"La vida es sueño y los sueños, sueños son.\" - Nach\\n\"Un beso y una flor, un te quiero, una caricia.\" - Nino Bravo\\n\"Luchar por ella, ser su abrigo, ser su refugio.\" - Alejandro Sanz\\n\"Nada es igual si no estás, tú eres mi sol.\" - Shakira\\n\"Por ti, todo lo que hago, lo hago por ti.\" - Bryan Adams\\n\"Tú eres mi razón de ser, mi vida, mi amor.\" - Banda MS\\n\"Soy el fuego que arde tu piel, soy el agua que mata tu sed.\" - Enrique Iglesias\\n\"Esa carita que me tiene loco.\" - Romeo Santos\\n\"Esos ojitos bellos que han robado el sol.\" - Los Bunkers\\n\"Mi niña bonita, mi dulce princesita.\" - Chino & Nacho\\n\"Si tu me besas con esa intensidad, no encuentro la forma de devolverte la mitad.\" - Alejandro Sanz\\n\"En tus manos, mi cielo y mi destino.\" - Diego Torres\\n\"Deja de llorar y vuelves a ser tú.\" - Natalia Lafourcade\\n\"Eres mi bendición, mi razón de ser.\" - Luis Fonsi\\n\"Te regalo una rosa, la encontré en el camino.\" - Juan Luis Guerra\\n\"Sigue bailando, mami, no pare.\" - Daddy Yankee\\n\"Como una promesa eres tú, eres tú.\" - José Feliciano\\n\"Puedes contar conmigo, para siempre.\" - La Otra\\n\"Vivir mi vida, la la la la.\" - Marc Anthony\\n\"Hoy la luna sale a la misma hora que tú.\" - Joaquín Sabina\\n\"Si no te hubieras ido, sería tan feliz.\" - Marco Antonio Solís\\n\"Me gustas tú, me gustas tú.\" - Manu Chao\\n\"Te llevaré al cielo, como una linda melodía.\" - Juan Gabriel\\n\"Yo no nací para amar, nadie nació para mí.\" - Luis Miguel\\n\"Vuela, vuela alto, como lo hacen las gaviotas.\" - Timbiriche\\n\"Si nos quedara poco tiempo, si se acabara el mundo.\" - Chayanne\\n\"Nada es suficiente, si no estás junto a mí.\" - Shakira\\n\"Despacito, quiero respirar tu cuello despacito.\" - Luis Fonsi\\n\"Por lo que reste de vida, te voy a amar.\" - Marco Antonio Solís\\n\"Amiga, ¿qué te pasa? No has dejado de llorar.\" - Alejandro Sanz\\n\"La vida es un sueño, y los sueños, sueños son.\" - Pedro Infante\\n\"De repente llega alguien que te toma por la mano.\" - Camila\\n\"A veces me pregunto, si alguna vez pensarás en mí.\" - La Quinta Estación\\n\"El sol no regresa y tú sigues aquí.\" - La Quinta Estación\\n\"Hasta que te conocí, vi la vida con dolor.\" - Juan Gabriel\\n\"El amor es una cosa esplendorosa.\" - Rocío Dúrcal\\n\"En un beso, sabrás todo lo que he callado.\" - Pablo Neruda\\n\"Amor completo, invencible.\" - Mon Laferte\\n\"Baila, baila, baila, que la vida es una fiesta.\" - Raffaella Carrà\\n\"El amor es un arte que nace del corazón.\" - El Tri\\n\"Eres tú, mi debilidad, mi adicción.\" - Reik\\n\"Un amor para recordar, algo imposible de olvidar.\" - Alejandro Sanz\\n\"Baila morena, para que mi vida se llene de luz.\" - Sergio Dalma\\n\"Yo no soy esa mujer, que no sale de casa.\" - Paulina Rubio\\n\"Cada día te quiero más, cada día te extraño más.\" - La Mafia\\n\"Eres mi religión, eres mi sol y mi canción.\" - Maná\\n\"No hay amor perfecto, sólo personas que se aman de verdad.\" - Alejandro Sanz\\n\"Bésame mucho, que tengo miedo a perderte.\" - Consuelo Velázquez\\n\"Es mi canción de despedida, el último capítulo.\" - Mecano\\n\"Vivir sin aire, es morir sin saber.\" - Maná\\n\"Que bonita es esta vida, aunque a veces duela tanto.\" - La Fiera de Ojinaga\\n\"Ella y él, dos locos viviendo una pasión.\" - Café Tacvba\\n\"Toda la noche oliendo tu piel, tu boca.\" - Juanes\\n\"Eres mi bendición, mi razón de ser.\" - Luis Fonsi\\n\"La vida es sueño y los sueños, sueños son.\" - Nach\\n\"Un beso y una flor, un te quiero, una caricia.\" - Nino Bravo\\n\"Luchar por ella, ser su abrigo, ser su refugio.\" - Alejandro Sanz\\n\"Nada es igual si no estás, tú eres mi sol.\" - Shakira\\n\"Por ti, todo lo que hago, lo hago por ti.\" - Bryan Adams\\n\"Tú eres mi razón de ser, mi vida, mi amor.\" - Banda MS\\n\"Soy el fuego que arde tu piel, soy el agua que mata tu sed.\" - Enrique Iglesias\\n\"Esa carita que me tiene loco.\" - Romeo Santos\\n\"Esos ojitos bellos que han robado el sol.\" - Los Bunkers\\n\"Mi niña bonita, mi dulce princesita.\" - Chino & Nacho\\n\"Si tu me besas con esa intensidad, no encuentro la forma de devolverte la mitad.\" - Alejandro Sanz\\n\"En tus manos, mi cielo y mi destino.\" - Diego Torres\\n\"Deja de llorar y vuelves a ser tú.\" - Natalia Lafourcade\\n\"Eres mi bendición, mi razón de ser.\" - Luis Fonsi\\n\"Te regalo una rosa, la encontré en el camino.\" - Juan Luis Guerra\\n\"Sigue bailando, mami, no pare.\" - Daddy Yankee\\n\"Como una promesa eres tú, eres tú.\" - José Feliciano\\n\"Puedes contar conmigo, para siempre.\" - La Otra\\n\"Vivir mi vida, la la la la.\" - Marc Anthony\\n\"Hoy la luna sale a la misma hora que tú.\" - Joaquín Sabina\\n\"Si no te hubieras ido, sería tan feliz.\" - Marco Antonio Solís\\n\"Me gustas tú, me gustas tú.\" - Manu Chao\\n\"Te llevaré al cielo, como una linda melodía.\" - Juan Gabriel\\n\"Yo no nací para amar, nadie nació para mí.\" - Luis Miguel\\n\"Vuela, vuela alto, como lo hacen las gaviotas.\" - Timbiriche\\n\"Si nos quedara poco tiempo, si se acabara el mundo.\" - Chayanne\\n\"Nada es suficiente, si no estás junto a mí.\" - Shakira\\n\"Despacito, quiero respirar tu cuello despacito.\" - Luis Fonsi\\n\"Por lo que reste de vida, te voy a amar.\" - Marco Antonio Solís\\n\"Amiga, ¿qué te pasa? No has dejado de llorar.\" - Alejandro Sanz\\n\"La vida es un sueño, y los sueños, sueños son.\" - Pedro Infante\\n\"De repente llega alguien que te toma por la mano.\" - Camila\\n\"A veces me pregunto, si alguna vez pensarás en mí.\" - La Quinta Estación\\n\"El sol no regresa y tú sigues aquí.\" - La Quinta Estación\\n\"Hasta que te conocí, vi la vida con dolor.\" - Juan Gabriel\\n\"El amor es una cosa esplendorosa.\" - Rocío Dúrcal\\n\"En un beso, sabrás todo lo que he callado.\" - Pablo Neruda\\n\"Amor completo, invencible.\" - Mon Laferte\\n\"Baila, baila, baila, que la vida es una fiesta.\" - Raffaella Carrà\\n\"El amor es un arte que nace del corazón.\" - El Tri\\n\"Eres tú, mi debilidad, mi adicción.\" - Reik\\n\"Un amor para recordar, algo imposible de olvidar.\" - Alejandro Sanz\\n\"Baila morena, para que mi vida se llene de luz.\" - Sergio Dalma\\n\"Yo no soy esa mujer, que no sale de casa.\" - Paulina Rubio\\n\"Cada día te quiero más, cada día te extraño más.\" - La Mafia\\n\"Eres mi religión, eres mi sol y mi canción.\" - Maná\\n\"No hay amor perfecto, sólo personas que se aman de verdad.\" - Alejandro Sanz\\n\"Bésame mucho, que tengo miedo a perderte.\" - Consuelo Velázquez\\n\"Es mi canción de despedida, el último capítulo.\" - Mecano\\n\"Vivir sin aire, es morir sin saber.\" - Maná\\n\"Que bonita es esta vida, aunque a veces duela tanto.\" - La Fiera de Ojinaga\\n\"Ella y él, dos locos viviendo una pasión.\" - Café Tacvba\\n\"Toda la noche oliendo tu piel, tu boca.\" - Juanes\\n\"Eres mi bendición, mi razón de ser.\" - Luis Fonsi\\n\"La vida es sueño y los sueños, sueños son.\" - Nach\\n\"Un beso y una flor, un te quiero, una caricia.\" - Nino Bravo\\n\"Luchar por ella, ser su abrigo, ser su refugio.\" - Alejandro Sanz\\n\"Nada es igual si no estás, tú eres mi sol.\" - Shakira\\n\"Por ti, todo lo que hago, lo hago por ti.\" - Bryan Adams\\n\"Tú eres mi razón de ser, mi vida, mi amor.\" - Banda MS\\n\"Soy el fuego que arde tu piel, soy el agua que mata tu sed.\" - Enrique Iglesias\\n\"Esa carita que me tiene loco.\" - Romeo Santos\\n\"Esos ojitos bellos que han robado el sol.\" - Los Bunkers\\n\"Mi niña bonita, mi dulce princesita.\" - Chino & Nacho\\n\"Si tu me besas con esa intensidad, no encuentro la forma de devolverte la mitad.\" - Alejandro Sanz\\n\"En tus manos, mi cielo y mi destino.\" - Diego Torres\\n\"Deja de llorar y vuelves a ser tú.\" - Natalia Lafourcade\\n\"Eres mi bendición, mi razón de ser.\" - Luis Fonsi\\n\"Te regalo una rosa, la encontré en el camino.\" - Juan Luis Guerra\\n\"Sigue bailando, mami, no pare.\" - Daddy Yankee\\n\"Como una promesa eres tú, eres tú.\" - José Feliciano\\n\"Puedes contar conmigo, para siempre.\" - La Otra\\n\"Vivir mi vida, la la la la.\" - Marc Anthony\\n\"Hoy la luna sale a la misma hora que tú.\" - Joaquín Sabina\\n\"Si no te hubieras ido, sería tan feliz.\" - Marco Antonio Solís\\n\"Me gustas tú, me gustas tú.\" - Manu Chao\\n\"Te llevaré al cielo, como una linda melodía.\" - Juan Gabriel\\n\"Yo no nací para amar, nadie nació para mí.\" - Luis Miguel\\n\"Vuela, vuela alto, como lo hacen las gaviotas.\" - Timbiriche\\n\"Si nos quedara poco tiempo, si se acabara el mundo.\" - Chayanne\\n\"Nada es suficiente, si no estás junto a mí.\" - Shakira\\n\"Despacito, quiero respirar tu cuello despacito.\" - Luis Fonsi\\n\"Por lo que reste de vida, te voy a amar.\" - Marco Antonio Solís\\n\"Amiga, ¿qué te pasa? No has dejado de llorar.\" - Alejandro Sanz\\n\"La vida es un sueño, y los sueños, sueños son.\" - Pedro Infante\\n\"De repente llega alguien que te toma por la mano.\" - Camila\\n\"A veces me pregunto, si alguna vez pensarás en mí.\" - La Quinta Estación\\n\"El sol no regresa y tú sigues aquí.\" - La Quinta Estación\\n\"Hasta que te conocí, vi la vida con dolor.\" - Juan Gabriel\\n\"El amor es una cosa esplendorosa.\" - Rocío Dúrcal\\n\"En un beso, sabrás todo lo que he callado.\" - Pablo Neruda\\n\"Amor completo, invencible.\" - Mon Laferte\\n\"Baila, baila, baila, que la vida es una fiesta.\" - Raffaella Carrà\\n\"El amor es un arte que nace del corazón.\" - El Tri\\n\"Eres tú, mi debilidad, mi adicción.\" - Reik\\n\"Un amor para recordar, algo imposible de olvidar.\" - Alejandro Sanz\\n\"Baila morena, para que mi vida se llene de luz.\" - Sergio Dalma\\n\"Yo no soy esa mujer, que no sale de casa.\" - Paulina Rubio\\n\"Cada día te quiero más, cada día te extraño más.\" - La Mafia\\n\"Eres mi religión, eres mi sol y mi canción.\" - Maná\\n\"No hay amor perfecto, sólo personas que se aman de verdad.\" - Alejandro Sanz\\n\"Bésame mucho, que tengo miedo a perderte.\" - Consuelo Velázquez\\n\"Es mi canción de despedida, el último capítulo.\" - Mecano\\n\"Vivir sin aire, es morir sin saber.\" - Maná\\n\"Que bonita es esta vida, aunque a veces duela tanto.\" - La Fiera de Ojinaga\\n\"Ella y él, dos locos viviendo una pasión.\" - Café Tacvba\\n\"Toda la noche oliendo tu piel, tu boca.\" - Juanes\\n\"Eres mi bendición, mi razón de ser.\" - Luis Fonsi\\n\"La vida es sueño y los sueños, sueños son.\" - Nach\\n\"Un beso y una flor, un te quiero, una caricia.\" - Nino Bravo\\n\"Luchar por ella, ser su abrigo, ser su refugio.\" - Alejandro Sanz\\n\"Nada es igual si no estás, tú eres mi sol.\" - Shakira\\n\"Por ti, todo lo que hago, lo hago por ti.\" - Bryan Adams\\n\"Tú eres mi razón de ser, mi vida, mi amor.\" - Banda MS\\n\"Soy el fuego que arde tu piel, soy el agua que mata tu sed.\" - Enrique Iglesias\\n\"Esa carita que me tiene loco.\" - Romeo Santos\\n\"Esos ojitos bellos que han robado el sol.\" - Los Bunkers\\n\"Mi niña bonita, mi dulce princesita.\" - Chino & Nacho\\n\"Si tu me besas con esa intensidad, no encuentro la forma de devolverte la mitad.\" - Alejandro Sanz\\n\"En tus manos, mi cielo y mi destino.\" - Diego Torres\\n\"Deja de llorar y vuelves a ser tú.\" - Natalia Lafourcade\\n\"Eres mi bendición, mi razón de ser.\" - Luis Fonsi\\n\"Te regalo una rosa, la encontré en el camino.\" - Juan Luis Guerra\\n\"Sigue bailando, mami, no pare.\" - Daddy Yankee\\n\"Como una promesa eres tú, eres tú.\" - José Feliciano\\n\"Puedes contar conmigo, para siempre.\" - La Otra\\n\"Vivir mi vida, la la la la.\" - Marc Anthony\\n\"Hoy la luna sale a la misma hora que tú.\" - Joaquín Sabina\\n\"Si no te hubieras ido, sería tan feliz.\" - Marco Antonio Solís\\n\"Me gustas tú, me gustas tú.\" - Manu Chao\\n\"Te llevaré al cielo, como una linda melodía.\" - Juan Gabriel\\n\"Yo no nací para amar, nadie nació para mí.\" - Luis Miguel\\n\"Vuela, vuela alto, como lo hacen las gaviotas.\" - Timbiriche\\n\"Si nos quedara poco tiempo, si se acabara el mundo.\" - Chayanne\\n\"Nada es suficiente, si no estás junto a mí.\" - Shakira\\n\"Despacito, quiero respirar tu cuello despacito.\" - Luis Fonsi\\n\"Por lo que reste de vida, te voy a amar.\" - Marco Antonio Solís\\n\"Amiga, ¿qué te pasa? No has dejado de llorar.\" - Alejandro Sanz\\n\"La vida es un sueño, y los sueños, sueños son.\" - Pedro Infante\\n\"De repente llega alguien que te toma por la mano.\" - Camila\\n\"A veces me pregunto, si alguna vez pensarás en mí.\" - La Quinta Estación\\n\"El sol no regresa y tú sigues aquí.\" - La Quinta Estación\\n\"Hasta que te conocí, vi la vida con dolor.\" - Juan Gabriel\\n\"El amor es una cosa esplendorosa.\" - Rocío Dúrcal\\n\"En un beso, sabrás todo lo que he callado.\" - Pablo Neruda\\n\"Amor completo, invencible.\" - Mon Laferte\\n\"Baila, baila, baila, que la vida es una fiesta.\" - Raffaella Carrà\\n\"El amor es un arte que nace del corazón.\" - El Tri\\n\"Eres tú, mi debilidad, mi adicción.\" - Reik\\n\"Un amor para recordar, algo imposible de olvidar.\" - Alejandro Sanz\\n\"Baila morena, para que mi vida se llene de luz.\" - Sergio Dalma\\n\"Yo no soy esa mujer, que no sale de casa.\" - Paulina Rubio\\n\"Cada día te quiero más, cada día te extraño más.\" - La Mafia\\n\"Eres mi religión, eres mi sol y mi canción.\" - Maná\\n\"No hay amor perfecto, sólo personas que se aman de verdad.\" - Alejandro Sanz\\n\"Bésame mucho, que tengo miedo a perderte.\" - Consuelo Velázquez\\n\"Es mi canción de despedida, el último capítulo.\" - Mecano\\n\"Vivir sin aire, es morir sin saber.\" - Maná\\n\"Que bonita es esta vida, aunque a veces duela tanto.\" - La Fiera de Ojinaga\\n\"Ella y él, dos locos viviendo una pasión.\" - Café Tacvba\\n\"Toda la noche oliendo tu piel, tu boca.\" - Juanes\\n\"Eres mi bendición, mi razón de ser.\" - Luis Fonsi\\n\"La vida es sueño y los sueños, sueños son.\" - Nach\\n\"Un beso y una flor, un te quiero, una caricia.\" - Nino Bravo\\n\"Luchar por ella, ser su abrigo, ser su refugio.\" - Alejandro Sanz\\n\"Nada es igual si no estás, tú eres mi sol.\" - Shakira\\n\"Por ti, todo lo que hago, lo hago por ti.\" - Bryan Adams\\n\"Tú eres mi razón de ser, mi vida, mi amor.\" - Banda MS\\n\"Soy el fuego que arde tu piel, soy el agua que mata tu sed.\" - Enrique Iglesias\\n\"Esa carita que me tiene loco.\" - Romeo Santos\\n\"Esos ojitos bellos que han robado el sol.\" - Los Bunkers\\n\"Mi niña bonita, mi dulce princesita.\" - Chino & Nacho\\n\"Si tu me besas con esa intensidad, no encuentro la forma de devolverte la mitad.\" - Alejandro Sanz\\n\"En tus manos, mi cielo y mi destino.\" - Diego Torres\\n\"Deja de llorar y vuelves a ser tú.\" - Natalia Lafourcade\\n\"Eres mi bendición, mi razón de ser.\" - Luis Fonsi\\n\"Te regalo una rosa, la encontré en el camino.\" - Juan Luis Guerra\\n\"Sigue bailando, mami, no pare.\" - Daddy Yankee\\n\"Como una promesa eres tú, eres tú.\" - José Feliciano\\n\"Puedes contar conmigo, para siempre.\" - La Otra\\n\"Vivir mi vida, la la la la.\" - Marc Anthony\\n\"Hoy la luna sale a la misma hora que tú.\" - Joaquín Sabina\\n\"Si no te hubieras ido, sería tan feliz.\" - Marco Antonio Solís\\n\"Me gustas tú, me gustas tú.\" - Manu Chao\\n\"Te llevaré al cielo, como una linda melodía.\" - Juan Gabriel\\n\"Yo no nací para amar, nadie nació para mí.\" - Luis Miguel\\n\"Vuela, vuela alto, como lo hacen las gaviotas.\" - Timbiriche\\n\"Si nos quedara poco tiempo, si se acabara el mundo.\" - Chayanne\\n\"Nada es suficiente, si no estás junto a mí.\" - Shakira\\n\"Despacito, quiero respirar tu cuello despacito.\" - Luis Fonsi\\n\"Por lo que reste de vida, te voy a amar.\" - Marco Antonio Solís\\n\"Amiga, ¿qué te pasa? No has dejado de llorar.\" - Alejandro Sanz\\n\"La vida es un sueño, y los sueños, sueños son.\" - Pedro Infante\\n\"De repente llega alguien que te toma por la mano.\" - Camila\\n\"A veces me pregunto, si alguna vez pensarás en mí.\" - La Quinta Estación\\n\"El sol no regresa y tú sigues aquí.\" - La Quinta Estación\\n\"Hasta que te conocí, vi la vida con dolor.\" - Juan Gabriel\\n\"El amor es una cosa esplendorosa.\" - Rocío Dúrcal\\n\"En un beso, sabrás todo lo que he callado.\" - Pablo Neruda\\n\"Amor completo, invencible.\" - Mon Laferte\\n\"Baila, baila, baila, que la vida es una fiesta.\" - Raffaella Carrà\\n\"El amor es un arte que nace del corazón.\" - El Tri\\n\"Eres tú, mi debilidad, mi adicción.\" - Reik\\n\"Un amor para recordar, algo imposible de olvidar.\" - Alejandro Sanz\\n\"Baila morena, para que mi vida se llene de luz.\" - Sergio Dalma\\n\"Yo no soy esa mujer, que no sale de casa.\" - Paulina Rubio\\n\"Cada día te quiero más, cada día te extraño más.\" - La Mafia\\n\"Eres mi religión, eres mi sol y mi canción.\" - Maná\\n\"No hay amor perfecto, sólo personas que se aman de verdad.\" - Alejandro Sanz\\n\"Bésame mucho, que tengo miedo a perderte.\" - Consuelo Velázquez\\n\"Es mi canción de despedida, el último capítulo.\" - Mecano\\n\"Vivir sin aire, es morir sin saber.\" - Maná\\n\"Que bonita es esta vida, aunque a veces duela tanto.\" - La Fiera de Ojinaga\\n\"Ella y él, dos locos viviendo una pasión.\" - Café Tacvba\\n\"Por siempre te amaré, mi amor eterno.\" - Rocío Dúrcal\\n\"Cruz de navajas por una mujer.\" - Mecano\\n\"Nada es suficiente, siempre quiero más.\" - Café Tacvba\\n\"Vuela alto, como las águilas en el cielo.\" - Los Tigres del Norte\\n\"El amor es una cosa esplendorosa.\" - Rocío Dúrcal\\n\"Con tus besos me curaste el alma.\" - Pablo Alborán\\n\"Bailando bajo la luna llena.\" - Santana\\n\"Yo no me doy por vencido, yo quiero un mundo contigo.\" - Luis Fonsi\\n\"Eres la luz que ilumina mi camino.\" - Ricardo Montaner\\n\"Nuestro amor es más fuerte que el viento.\" - Maná\\n\"Si tú no vuelves, se secarán todos los mares.\" - Shakira\\n\"Amor eterno, e inolvidable como un sueño.\" - Rocío Dúrcal\\n\"Mi corazón late por ti, mi amor.\" - Chayanne\\n\"Bésame mucho, como si fuera esta noche la última vez.\" - Consuelo Velázquez\\n\"En cada beso tuyo, descubro el universo.\" - Luis Fonsi\\n\"Vivir sin ti no es vivir, es esperar a morir.\" - Los Temerarios\\n\"Eres mi razón de ser, mi vida, mi amor.\" - Banda MS\\n\"Soy el fuego que arde tu piel, soy el agua que mata tu sed.\" - Enrique Iglesias\\n\"Un día de estos en que suelo pensar, que el amor verdadero es tan solo el primero.\" - Diego Torres\\n\"Tal vez la vida me castigue, por mis pecados, por mis desprecios.\" - Joan Sebastian\\n\"Deja que la vida te sorprenda.\" - Juanes\\n\"Quiero ser tuyo, pero tengo miedo.\" - Shakira\\n\"Cada vez que te beso es un pedacito del cielo.\" - Ricardo Arjona\\n\"Eres la flor que da aroma a mi vida.\" - Maná\\n\"Eres tú, mi sol brillando en el cielo.\" - Alejandro Sanz\\n\"Tú eres mi mejor canción, mi melodía perfecta.\" - Luis Fonsi\\n\"La vida es un carnaval y las penas se van cantando.\" - Celia Cruz\\n\"Sigo aquí esperando tu regreso.\" - Luis Miguel\\n\"Te extraño más que nunca, y no sé cómo voy a hacer.\" - Alejandro Sanz\\n\"Mi vida, eres tú.\" - Juan Gabriel\\n\"Eres el amor de mi vida, la esperanza que tengo.\" - Ricky Martin\\n\"Eres la luz de mis ojos, el latido de mi corazón.\" - Camila\\n\"Eres mi razón de ser, mi vida, mi amor.\" - Banda MS\\n\"Soy el fuego que arde tu piel, soy el agua que mata tu sed.\" - Enrique Iglesias\\n\"Un día de estos en que suelo pensar, que el amor verdadero es tan solo el primero.\" - Diego Torres\\n\"Tal vez la vida me castigue, por mis pecados, por mis desprecios.\" - Joan Sebastian\\n\"Deja que la vida te sorprenda.\" - Juanes\\n\"Quiero ser tuyo, pero tengo miedo.\" - Shakira\\n\"Cada vez que te beso es un pedacito del cielo.\" - Ricardo Arjona\\n\"Eres la flor que da aroma a mi vida.\" - Maná\\n\"Eres tú, mi sol brillando en el cielo.\" - Alejandro Sanz\\n\"Tú eres mi mejor canción, mi melodía perfecta.\" - Luis Fonsi\\n\"La vida es un carnaval y las penas se van cantando.\" - Celia Cruz\\n\"Sigo aquí esperando tu regreso.\" - Luis Miguel\\n\"Te extraño más que nunca, y no sé cómo voy a hacer.\" - Alejandro Sanz\\n\"Mi vida, eres tú.\" - Juan Gabriel\\n\"Eres el amor de mi vida, la esperanza que tengo.\" - Ricky Martin\\n\"Eres la luz de mis ojos, el latido de mi corazón.\" - Camila\\n\"Tú eres mi refugio, mi razón de ser.\" - Maná\\n\"Vivir sin ti no es vivir, es esperar a morir.\" - Los Temerarios\\n\"Sigo amándote a pesar del tiempo.\" - Juan Gabriel\\n\"Eres mi sol en días grises.\" - Alejandro Sanz\\n\"Nuestro amor es eterno como el cielo.\" - Ricardo Montaner\\n\"Soy el viento que acaricia tu piel.\" - Ricky Martin\\n\"Cada día te amo más.\" - Los Inquietos del Norte\\n\"Eres el sueño que nunca quiero despertar.\" - Camila\\n\"El amor es como una flor, hay que cuidarlo cada día.\" - Pedro Infante\\n\"Eres la razón por la que sonrío.\" - Shakira\\n\"Contigo el mundo es un lugar mejor.\" - Juanes\\n\"Tú y yo, dos almas que se entienden.\" - Marc Anthony\\n\"Eres mi razón para seguir adelante.\" - Alejandro Sanz\\n\"Amor eterno, amor verdadero.\" - Rocío Dúrcal\\n\"Cada día te extraño más, mi amor.\" - Selena\\n\"Soy como un niño cuando estoy contigo.\" - Ricky Martin\\n\"Eres mi vida, mi razón de ser.\" - Maná\\n\"Baila, baila, baila, que la vida es una fiesta.\" - Raffaella Carrà\\n\"Eres mi canción de amor, mi melodía perfecta.\" - Luis Fonsi\\n\"Te amo más de lo que las palabras pueden expresar.\" - Alejandro Sanz\\n\"Eres la luz que ilumina mi camino.\" - Ricardo Montaner\\n\"Bésame mucho, que tengo miedo a perderte.\" - Consuelo Velázquez\\n\"Mi amor por ti no tiene fin.\" - Juan Gabriel\\n\"Eres el sol que brilla en mi cielo.\" - Maná\\n\"Siempre estaré a tu lado, pase lo que pase.\" - Juanes\\n\"Tú y yo, juntos por siempre.\" - Shakira\\n\"Eres mi razón de vivir, mi amor eterno.\" - Rocío Dúrcal\\n\"Nuestro amor es como un cuento de hadas.\" - Ricardo Montaner\\n\"Soy el viento que te acaricia en la noche.\" - Ricky Martin\\n\"Cada día te amo más, mi amor.\" - Los Inquietos del Norte\\n\"Eres mi sueño hecho realidad.\" - Camila\\n\"El amor es un fuego que arde sin cesar.\" - Pedro Infante\\n\"Eres la razón de mis sonrisas.\" - Alejandro Sanz\\n\"Contigo, el mundo es un lugar mágico.\" - Juanes\\n\"Tú y yo, dos almas en un solo corazón.\" - Marc Anthony\\n\"Eres mi motivación para seguir adelante.\" - Alejandro Sanz\\n\"Amor eterno, amor sincero.\" - Rocío Dúrcal\\n\"Cada día te extraño más, mi amor.\" - Selena\\n\"Soy un niño cuando estoy a tu lado.\" - Ricky Martin\\n\"Eres mi vida, mi razón de ser.\" - Maná\\n\"Baila, baila, baila, que la vida es una fiesta.\" - Raffaella Carrà\\n\"Eres mi canción de amor, mi melodía perfecta.\" - Luis Fonsi\\n\"Te amo más de lo que las palabras pueden expresar.\" - Alejandro Sanz\\n\"Eres la luz que ilumina mi camino.\" - Ricardo Montaner\\n\"Bésame mucho, que tengo miedo a perderte.\" - Consuelo Velázquez\\n\"Mi amor por ti no tiene fin.\" - Juan Gabriel\\n\"Eres el sol que brilla en mi cielo.\" - Maná\\n\"Siempre estaré a tu lado, pase lo que pase.\" - Juanes\\n\"Tú y yo, juntos por siempre.\" - Shakira\\n\"Eres mi razón de vivir, mi amor eterno.\" - Rocío Dúrcal\\n\"Nuestro amor es como un cuento de hadas.\" - Ricardo Montaner\\n\"Soy el viento que te acaricia en la noche.\" - Ricky Martin\\n\"Cada día te amo más, mi amor.\" - Los Inquietos del Norte\\n\"Eres mi sueño hecho realidad.\" - Camila\\n\"El amor es un fuego que arde sin cesar.\" - Pedro Infante\\n\"Eres la razón de mis sonrisas.\" - Alejandro Sanz\\n\"Contigo, el mundo es un lugar mágico.\" - Juanes\\n\"Tú y yo, dos almas en un solo corazón.\" - Marc Anthony\\n\"Eres mi motivación para seguir adelante.\" - Alejandro Sanz\\n\"Amor eterno, amor sincero.\" - Rocío Dúrcal\\n\"Cada día te extraño más, mi amor.\" - Selena\\n\"Soy un niño cuando estoy a tu lado.\" - Ricky Martin\\n\"Eres mi vida, mi razón de ser.\" - Maná\\n\"Baila, baila, baila, que la vida es una fiesta.\" - Raffaella Carrà\\n\"Eres mi canción de amor, mi melodía perfecta.\" - Luis Fonsi\\n\"Te amo más de lo que las palabras pueden expresar.\" - Alejandro Sanz\\n\"Eres la luz que ilumina mi camino.\" - Ricardo Montaner\\n\"Bésame mucho, que tengo miedo a perderte.\" - Consuelo Velázquez\\n\"Mi amor por ti no tiene fin.\" - Juan Gabriel\\n\"Eres el sol que brilla en mi cielo.\" - Maná\\n\"Siempre estaré a tu lado, pase lo que pase.\" - Juanes\\n\"Tú y yo, juntos por siempre.\" - Shakira\\n\"Eres mi razón de vivir, mi amor eterno.\" - Rocío Dúrcal\\n\"Nuestro amor es como un cuento de hadas.\" - Ricardo Montaner\\n\"Soy el viento que te acaricia en la noche.\" - Ricky Martin\\n\"Cada día te amo más, mi amor.\" - Los Inquietos del Norte\\n\"Eres mi sueño hecho realidad.\" - Camila\\n\"El amor es un fuego que arde sin cesar.\" - Pedro Infante\\n\"Eres la razón de mis sonrisas.\" - Alejandro Sanz\\n\"Contigo, el mundo es un lugar mágico.\" - Juanes\\n\"Tú y yo, dos almas en un solo corazón.\" - Marc Anthony\\n\"Eres mi motivación para seguir adelante.\" - Alejandro Sanz\\n\"Amor eterno, amor sincero.\" - Rocío Dúrcal\\n\"Cada día te extraño más, mi amor.\" - Selena\\n\"Soy un niño cuando estoy a tu lado.\" - Ricky Martin\\n\"Eres mi vida, mi razón de ser.\" - Maná\\n\"Baila, baila, baila, que la vida es una fiesta.\" - Raffaella Carrà\\n\"Eres mi canción de amor, mi melodía perfecta.\" - Luis Fonsi\\n\"Te amo más de lo que las palabras pueden expresar.\" - Alejandro Sanz\\n\"Eres la luz que ilumina mi camino.\" - Ricardo Montaner\\n\"Bésame mucho, que tengo miedo a perderte.\" - Consuelo Velázquez\\n\"Mi amor por ti no tiene fin.\" - Juan Gabriel\\n\"Eres el sol que brilla en mi cielo.\" - Maná\\n\"Siempre estaré a tu lado, pase lo que pase.\" - Juanes\\n\"Tú y yo, juntos por siempre.\" - Shakira\\n\"Eres mi razón de vivir, mi amor eterno.\" - Rocío Dúrcal\\n\"Nuestro amor es como un cuento de hadas.\" - Ricardo Montaner\\n\"Soy el viento que te acaricia en la noche.\" - Ricky Martin\\n\"Cada día te amo más, mi amor.\" - Los Inquietos del Norte\\n\"Eres mi sueño hecho realidad.\" - Camila\\n\"El amor es un fuego que arde sin cesar.\" - Pedro Infante\\n\"Eres la razón de mis sonrisas.\" - Alejandro Sanz\\n\"Contigo, el mundo es un lugar mágico.\" - Juanes\\n\"Tú y yo, dos almas en un solo corazón.\" - Marc Anthony\\n\"Eres mi motivación para seguir adelante.\" - Alejandro Sanz\\n\"Amor eterno, amor sincero.\" - Rocío Dúrcal\\n\"Cada día te extraño más, mi amor.\" - Selena\\n\"Soy un niño cuando estoy a tu lado.\" - Ricky Martin\\n\"Eres mi vida, mi razón de ser.\" - Maná\\n\"Baila, baila, baila, que la vida es una fiesta.\" - Raffaella Carrà\\n\"Eres mi canción de amor, mi melodía perfecta.\" - Luis Fonsi\\n\"Te amo más de lo que las palabras pueden expresar.\" - Alejandro Sanz\\n\"Eres la luz que ilumina mi camino.\" - Ricardo Montaner\\n\"Bésame mucho, que tengo miedo a perderte.\" - Consuelo Velázquez\\n\"Mi amor por ti no tiene fin.\" - Juan Gabriel\\n\"Eres el sol que brilla en mi cielo.\" - Maná\\n\"Siempre estaré a tu lado, pase lo que pase.\" - Juanes\\n\"Tú y yo, juntos por siempre.\" - Shakira\\n\"Eres mi razón de vivir, mi amor eterno.\" - Rocío Dúrcal\\n\"Nuestro amor es como un cuento de hadas.\" - Ricardo Montaner\\n\"Soy el viento que te acaricia en la noche.\" - Ricky Martin\\n\"Cada día te amo más, mi amor.\" - Los Inquietos del Norte\\n\"Eres mi sueño hecho realidad.\" - Camila\\n\"El amor es un fuego que arde sin cesar.\" - Pedro Infante\\n\"Eres la razón de mis sonrisas.\" - Alejandro Sanz\\n\"Contigo, el mundo es un lugar mágico.\" - Juanes\\n\"Tú y yo, dos almas en un solo corazón.\" - Marc Anthony\\n\"Eres mi motivación para seguir adelante.\" - Alejandro Sanz\\n\"Amor eterno, amor sincero.\" - Rocío Dúrcal\\n\"Cada día te extraño más, mi amor.\" - Selena\\n\"Soy un niño cuando estoy a tu lado.\" - Ricky Martin\\n\"Eres mi vida, mi razón de ser.\" - Maná\\n\"Baila, baila, baila, que la vida es una fiesta.\" - Raffaella Carrà\\n\"Eres mi canción de amor, mi melodía perfecta.\" - Luis Fonsi\\n\"Te amo más de lo que las palabras pueden expresar.\" - Alejandro Sanz\\n\"Eres la luz que ilumina mi camino.\" - Ricardo Montaner\\n\"Bésame mucho, que tengo miedo a perderte.\" - Consuelo Velázquez\\n\"Mi amor por ti no tiene fin.\" - Juan Gabriel\\n\"Eres el sol que brilla en mi cielo.\" - Maná\\n\"Siempre estaré a tu lado, pase lo que pase.\" - Juanes\\n\"Tú y yo, juntos por siempre.\" - Shakira\\n\"Eres mi razón de vivir, mi amor eterno.\" - Rocío Dúrcal\\n\"Nuestro amor es como un cuento de hadas.\" - Ricardo Montaner\\n\"Soy el viento que te acaricia en la noche.\" - Ricky Martin\\n\"Cada día te amo más, mi amor.\" - Los Inquietos del Norte\\n\"Eres mi sueño hecho realidad.\" - Camila\\n\"El amor es un fuego que arde sin cesar.\" - Pedro Infante\\n\"Eres la razón de mis sonrisas.\" - Alejandro Sanz\\n\"Contigo, el mundo es un lugar mágico.\" - Juanes\\n\"Tú y yo, dos almas en un solo corazón.\" - Marc Anthony\\n\"Eres mi motivación para seguir adelante.\" - Alejandro Sanz\\n\"Amor eterno, amor sincero.\" - Rocío Dúrcal\\n\"Cada día te extraño más, mi amor.\" - Selena\\n\"Soy un niño cuando estoy a tu lado.\" - Ricky Martin\\n\"Eres mi vida, mi razón de ser.\" - Maná\\n\"Baila, baila, baila, que la vida es una fiesta.\" - Raffaella Carrà\\n\"Eres mi canción de amor, mi melodía perfecta.\" - Luis Fonsi\\n\"Te amo más de lo que las palabras pueden expresar.\" - Alejandro Sanz\\n\"Eres la luz que ilumina mi camino.\" - Ricardo Montaner\\n\"Bésame mucho, que tengo miedo a perderte.\" - Consuelo Velázquez\\n\"Mi amor por ti no tiene fin.\" - Juan Gabriel\\n\"Eres el sol que brilla en mi cielo.\" - Maná\\n\"Siempre estaré a tu lado, pase lo que pase.\" - Juanes\\n\"Tú y yo, juntos por siempre.\" - Shakira\\n\"Eres mi razón de vivir, mi amor eterno.\" - Rocío Dúrcal\\n\"Nuestro amor es como un cuento de hadas.\" - Ricardo Montaner\\n\"Soy el viento que te acaricia en la noche.\" - Ricky Martin\\n\"Cada día te amo más, mi amor.\" - Los Inquietos del Norte\\n\"Eres mi sueño hecho realidad.\" - Camila\\n\"El amor es un fuego que arde sin cesar.\" - Pedro Infante\\n\"Eres la razón de mis sonrisas.\" - Alejandro Sanz\\n\"Contigo, el mundo es un lugar mágico.\" - Juanes\\n\"Tú y yo, dos almas en un solo corazón.\" - Marc Anthony\\n\"Eres mi motivación para seguir adelante.\" - Alejandro Sanz\\n\"Amor eterno, amor sincero.\" - Rocío Dúrcal\\n\"Cada día te extraño más, mi amor.\" - Selena\\n\"Soy un niño cuando estoy a tu lado.\" - Ricky Martin\\n\"Eres mi vida, mi razón de ser.\" - Maná\\n\"Baila, baila, baila, que la vida es una fiesta.\" - Raffaella Carrà\\n\"Eres mi canción de amor, mi melodía perfecta.\" - Luis Fonsi\\n\"Te amo más de lo que las palabras pueden expresar.\" - Alejandro Sanz\\n\"Eres la luz que ilumina mi camino.\" - Ricardo Montaner\\n\"Bésame mucho, que tengo miedo a perderte.\" - Consuelo Velázquez\\n\"Mi amor por ti no tiene fin.\" - Juan Gabriel\\n\"Eres el sol que brilla en mi cielo.\" - Maná\\n\"Siempre estaré a tu lado, pase lo que pase.\" - Juanes\\n\"Tú y yo, juntos por siempre.\" - Shakira\\n\"Eres mi razón de vivir, mi amor eterno.\" - Rocío Dúrcal\\n\"Nuestro amor es como un cuento de hadas.\" - Ricardo Montaner\\n\"Soy el viento que te acaricia en la noche.\" - Ricky Martin\\n\"Cada día te amo más, mi amor.\" - Los Inquietos del Norte\\n\"Eres mi sueño hecho realidad.\" - Camila\\n\"El amor es un fuego que arde sin cesar.\" - Pedro Infante\\n\"Eres la razón de mis sonrisas.\" - Alejandro Sanz\\n\"Contigo, el mundo es un lugar mágico.\" - Juanes\\n\"Tú y yo, dos almas en un solo corazón.\" - Marc Anthony\\n\"Eres mi motivación para seguir adelante.\" - Alejandro Sanz\\n\"Amor eterno, amor sincero.\" - Rocío Dúrcal\\n\"Cada día te extraño más, mi amor.\" - Selena\\n\"Soy un niño cuando estoy a tu lado.\" - Ricky Martin\\n\"Eres mi vida, mi razón de ser.\" - Maná\\n\"Baila, baila, baila, que la vida es una fiesta.\" - Raffaella Carrà\\n\"Eres mi canción de amor, mi melodía perfecta.\" - Luis Fonsi\\n\"Te amo más de lo que las palabras pueden expresar.\" - Alejandro Sanz\\n\"Eres la luz que ilumina mi camino.\" - Ricardo Montaner\\n\"Bésame mucho, que tengo miedo a perderte.\" - Consuelo Velázquez\\n\"Mi amor por ti no tiene fin.\" - Juan Gabriel\\n\"Eres el sol que brilla en mi cielo.\" - Maná\\n\"Siempre estaré a tu lado, pase lo que pase.\" - Juanes\\n\"Tú y yo, juntos por siempre.\" - Shakira\\n\"Eres mi razón de vivir, mi amor eterno.\" - Rocío Dúrcal\\n\"Nuestro amor es como un cuento de hadas.\" - Ricardo Montaner\\n\"Soy el viento que te acaricia en la noche.\" - Ricky Martin\\n\"Cada día te amo más, mi amor.\" - Los Inquietos del Norte\\n\"Eres mi sueño hecho realidad.\" - Camila\\n\"El amor es un fuego que arde sin cesar.\" - Pedro Infante\\n\"Eres la razón de mis sonrisas.\" - Alejandro Sanz\\n\"Contigo, el mundo es un lugar mágico.\" - Juanes\\n\"Tú y yo, dos almas en un solo corazón.\" - Marc Anthony\\n\"Eres mi motivación para seguir adelante.\" - Alejandro Sanz\\n\"Amor eterno, amor sincero.\" - Rocío Dúrcal\\n\"Cada día te extraño más, mi amor.\" - Selena\\n\"Soy un niño cuando estoy a tu lado.\" - Ricky Martin\\n\"Eres mi vida, mi razón de ser.\" - Maná\\n\"Baila, baila, baila, que la vida es una fiesta.\" - Raffaella Carrà\\n\"Eres mi canción de amor, mi melodía perfecta.\" - Luis Fonsi\\n\"Te amo más de lo que las palabras pueden expresar.\" - Alejandro Sanz\\n\"Eres la luz que ilumina mi camino.\" - Ricardo Montaner\\n\"Bésame mucho, que tengo miedo a perderte.\" - Consuelo Velázquez\\n\"Mi amor por ti no tiene fin.\" - Juan Gabriel\\n\"Eres el sol que brilla en mi cielo.\" - Maná\\n\"Siempre estaré a tu lado, pase lo que pase.\" - Juanes\\n\"Tú y yo, juntos por siempre.\" - Shakira\\n\"Eres mi razón de vivir, mi amor eterno.\" - Rocío Dúrcal\\n\"Nuestro amor es como un cuento de hadas.\" - Ricardo Montaner\\n\"Soy el viento que te acaricia en la noche.\" - Ricky Martin\\n\"Cada día te amo más, mi amor.\" - Los Inquietos del Norte\\n\"Eres mi sueño hecho realidad.\" - Camila\\n\"El amor es un fuego que arde sin cesar.\" - Pedro Infante\\n\"Eres la razón de mis sonrisas.\" - Alejandro Sanz\\n\"Contigo, el mundo es un lugar mágico.\" - Juanes\\n\"Tú y yo, dos almas en un solo corazón.\" - Marc Anthony\\n\"Eres mi motivación para seguir adelante.\" - Alejandro Sanz\\n\"Amor eterno, amor sincero.\" - Rocío Dúrcal\\n\"Cada día te extraño más, mi amor.\" - Selena\\n\"Soy un niño cuando estoy a tu lado.\" - Ricky Martin\\n\"Eres mi vida, mi razón de ser.\" - Maná\\n\"Baila, baila, baila, que la vida es una fiesta.\" - Raffaella Carrà\\n\"Eres mi canción de amor, mi melodía perfecta.\" - Luis Fonsi\\n\"Te amo más de lo que las palabras pueden expresar.\" - Alejandro Sanz\\n\"Eres la luz que ilumina mi camino.\" - Ricardo Montaner\\n\"Bésame mucho, que tengo miedo a perderte.\" - Consuelo Velázquez\\n\"Mi amor por ti no tiene fin.\" - Juan Gabriel\\n\"Eres el sol que brilla en mi cielo.\" - Maná\\n\"Siempre estaré a tu lado, pase lo que pase.\" - Juanes\\n\"Tú y yo, juntos por siempre.\" - Shakira\\n\"Eres mi razón de vivir, mi amor eterno.\" - Rocío Dúrcal\\n\"Nuestro amor es como un cuento de hadas.\" - Ricardo Montaner\\n\"Soy el viento que te acaricia en la noche.\" - Ricky Martin\\n\"Cada día te amo más, mi amor.\" - Los Inquietos del Norte\\n\"Eres mi sueño hecho realidad.\" - Camila\\n\"El amor es un fuego que arde sin cesar.\" - Pedro Infante\\n\"Eres la razón de mis sonrisas.\" - Alejandro Sanz\\n\"Contigo, el mundo es un lugar mágico.\" - Juanes\\n\"Tú y yo, dos almas en un solo corazón.\" - Marc Anthony\\n\"Eres mi motivación para seguir adelante.\" - Alejandro Sanz\\n\"Amor eterno, amor sincero.\" - Rocío Dúrcal\\n\"Cada día te extraño más, mi amor.\" - Selena\\n\"Soy un niño cuando estoy a tu lado.\" - Ricky Martin\\n\"Eres mi vida, mi razón de ser.\" - Maná\\n\"Baila, baila, baila, que la vida es una fiesta.\" - Raffaella Carrà\\n\"Eres mi canción de amor, mi melodía perfecta.\" - Luis Fonsi\\n\"Te amo más de lo que las palabras pueden expresar.\" - Alejandro Sanz\\n\"Eres la luz que ilumina mi camino.\" - Ricardo Montaner\\n\"Bésame mucho, que tengo miedo a perderte.\" - Consuelo Velázquez\\n\"Mi amor por ti no tiene fin.\" - Juan Gabriel\\n\"Eres el sol que brilla en mi cielo.\" - Maná\\n\"Siempre estaré a tu lado, pase lo que pase.\" - Juanes\\n\"Tú y yo, juntos por siempre.\" - Shakira\\n\"Eres mi razón de vivir, mi amor eterno.\" - Rocío Dúrcal\\n\"Nuestro amor es como un cuento de hadas.\" - Ricardo Montaner\\n\"Soy el viento que te acaricia en la noche.\" - Ricky Martin\\n\"Cada día te amo más, mi amor.\" - Los Inquietos del Norte\\n\"Eres mi sueño hecho realidad.\" - Camila\\n\"El amor es un fuego que arde sin cesar.\" - Pedro Infante\\n\"Eres la razón de mis sonrisas.\" - Alejandro Sanz\\n\"Contigo, el mundo es un lugar mágico.\" - Juanes\\n\"Tú y yo, dos almas en un solo corazón.\" - Marc Anthony\\n\"Eres mi motivación para seguir adelante.\" - Alejandro Sanz\\n\"Amor eterno, amor sincero.\" - Rocío Dúrcal\\n\"Cada día te extraño más, mi amor.\" - Selena\\n\"Soy un niño cuando estoy a tu lado.\" - Ricky Martin\\n\"Eres mi vida, mi razón de ser.\" - Maná\\n\"Baila, baila, baila, que la vida es una fiesta.\" - Raffaella Carrà\\n\"Eres mi canción de amor, mi melodía perfecta.\" - Luis Fonsi\\n\"Te amo más de lo que las palabras pueden expresar.\" - Alejandro Sanz\\n\"Eres la luz que ilumina mi camino.\" - Ricardo Montaner\\n\"Bésame mucho, que tengo miedo a perderte.\" - Consuelo Velázquez\\n\"Mi amor por ti no tiene fin.\" - Juan Gabriel\\n\"Eres el sol que brilla en mi cielo.\" - Maná\\n\"Siempre estaré a tu lado, pase lo que pase.\" - Juanes\\n\"Tú y yo, juntos por siempre.\" - Shakira\\n\"Eres mi razón de vivir, mi amor eterno.\" - Rocío Dúrcal\\n\"Nuestro amor es como un cuento de hadas.\" - Ricardo Montaner\\n\"Soy el viento que te acaricia en la noche.\" - Ricky Martin\\n\"Cada día te amo más, mi amor.\" - Los Inquietos del Norte\\n\"Eres mi sueño hecho realidad.\" - Camila\\n\"El amor es un fuego que arde sin cesar.\" - Pedro Infante\\n\"Eres la razón de mis sonrisas.\" - Alejandro Sanz\\n\"Contigo, el mundo es un lugar mágico.\" - Juanes\\n\"Tú y yo, dos almas en un solo corazón.\" - Marc Anthony\\n\"Eres mi motivación para seguir adelante.\" - Alejandro Sanz\\n\"Amor eterno, amor sincero.\" - Rocío Dúrcal\\n\"Cada día te extraño más, mi amor.\" - Selena\\n\"Soy un niño cuando estoy a tu lado.\" - Ricky Martin\\n\"Eres mi vida, mi razón de ser.\" - Maná\\n\"Baila, baila, baila, que la vida es una fiesta.\" - Raffaella Carrà\\n\"Eres mi canción de amor, mi melodía perfecta.\" - Luis Fonsi\\n\"Te amo más de lo que las palabras pueden expresar.\" - Alejandro Sanz\\n\"Eres la luz que ilumina mi camino.\" - Ricardo Montaner\\n\"Bésame mucho, que tengo miedo a perderte.\" - Consuelo Velázquez\\n\"Mi amor por ti no tiene fin.\" - Juan Gabriel\\n\"Eres el sol que brilla en mi cielo.\" - Maná\\n\"Siempre estaré a tu lado, pase lo que pase.\" - Juanes\\n\"Tú y yo, juntos por siempre.\" - Shakira\\n\"Eres mi razón de vivir, mi amor eterno.\" - Rocío Dúrcal\\n\"Nuestro amor es como un cuento de hadas.\" - Ricardo Montaner\\n\"Soy el viento que te acaricia en la noche.\" - Ricky Martin\\n\"Cada día te amo más, mi amor.\" - Los Inquietos del Norte\\n\"Eres mi sueño hecho realidad.\" - Camila\\n\"El amor es un fuego que arde sin cesar.\" - Pedro Infante\\n\"Eres la razón de mis sonrisas.\" - Alejandro Sanz\\n\"Contigo, el mundo es un lugar mágico.\" - Juanes\\n\"Tú y yo, dos almas en un solo corazón.\" - Marc Anthony\\n\"Eres mi motivación para seguir adelante.\" - Alejandro Sanz\\n\"Amor eterno, amor sincero.\" - Rocío Dúrcal\\n\"Cada día te extraño más, mi amor.\" - Selena\\n\"Soy un niño cuando estoy a tu lado.\" - Ricky Martin\\n\"Eres mi vida, mi razón de ser.\" - Maná\\n\"Baila, baila, baila, que la vida es una fiesta.\" - Raffaella Carrà\\n\"Eres mi canción de amor, mi melodía perfecta.\" - Luis Fonsi\\n\"Te amo más de lo que las palabras pueden expresar.\" - Alejandro Sanz\\n\"Eres la luz que ilumina mi camino.\" - Ricardo Montaner\\n\"Bésame mucho, que tengo miedo a perderte.\" - Consuelo Velázquez\\n\"Mi amor por ti no tiene fin.\" - Juan Gabriel\\n\"Eres el sol que brilla en mi cielo.\" - Maná\\n\"Siempre estaré a tu lado, pase lo que pase.\" - Juanes\\n\"Tú y yo, juntos por siempre.\" - Shakira\\n\"Eres mi razón de vivir, mi amor eterno.\" - Rocío Dúrcal\\n\"Nuestro amor es como un cuento de hadas.\" - Ricardo Montaner\\n\"Soy el viento que te acaricia en la noche.\" - Ricky Martin\\n\"Cada día te amo más, mi amor.\" - Los Inquietos del Norte\\n\"Eres mi sueño hecho realidad.\" - Camila\\n\"El amor es un fuego que arde sin cesar.\" - Pedro Infante\\n\"Eres la razón de mis sonrisas.\" - Alejandro Sanz\\n\"Contigo, el mundo es un lugar mágico.\" - Juanes\\n\"Tú y yo, dos almas en un solo corazón.\" - Marc Anthony\\n\"Eres mi motivación para seguir adelante.\" - Alejandro Sanz\\n\"Amor eterno, amor sincero.\" - Rocío Dúrcal\\n\"Cada día te extraño más, mi amor.\" - Selena\\n\"Soy un niño cuando estoy a tu lado.\" - Ricky Martin\\n\"Eres mi vida, mi razón de ser.\" - Maná\\n\"Baila, baila, baila, que la vida es una fiesta.\" - Raffaella Carrà\\n\"Eres mi canción de amor, mi melodía perfecta.\" - Luis Fonsi\\n\"Te amo más de lo que las palabras pueden expresar.\" - Alejandro Sanz\\n\"Eres la luz que ilumina mi camino.\" - Ricardo Montaner\\n\"Bésame mucho, que tengo miedo a perderte.\" - Consuelo Velázquez\\n\"Mi amor por ti no tiene fin.\" - Juan Gabriel\\n\"Eres el sol que brilla en mi cielo.\" - Maná\\n\"Siempre estaré a tu lado, pase lo que pase.\" - Juanes\\n\"Tú y yo, juntos por siempre.\" - Shakira\\n\"Eres mi razón de vivir, mi amor eterno.\" - Rocío Dúrcal\\n\"Nuestro amor es como un cuento de hadas.\" - Ricardo Montaner\\n\"Soy el viento que te acaricia en la noche.\" - Ricky Martin\\n\"Cada día te amo más, mi amor.\" - Los Inquietos del Norte\\n\"Eres mi sueño hecho realidad.\" - Camila\\n\"El amor es un fuego que arde sin cesar.\" - Pedro Infante\\n\"Eres la razón de mis sonrisas.\" - Alejandro Sanz\\n\"Contigo, el mundo es un lugar mágico.\" - Juanes\\n\"Tú y yo, dos almas en un solo corazón.\" - Marc Anthony\\n\"Eres mi motivación para seguir adelante.\" - Alejandro Sanz\\n\"Amor eterno, amor sincero.\" - Rocío Dúrcal\\n\"Cada día te extraño más, mi amor.\" - Selena\\n\"Soy un niño cuando estoy a tu lado.\" - Ricky Martin\\n\"Eres mi vida, mi razón de ser.\" - Maná\\n\"Baila, baila, baila, que la vida es una fiesta.\" - Raffaella Carrà\\n\"Eres mi canción de amor, mi melodía perfecta.\" - Luis Fonsi\\n\"Te amo más de lo que las palabras pueden expresar.\" - Alejandro Sanz\\n\"Eres la luz que ilumina mi camino.\" - Ricardo Montaner\\n\"Bésame mucho, que tengo miedo a perderte.\" - Consuelo Velázquez\\n\"Mi amor por ti no tiene fin.\" - Juan Gabriel\\n\"Eres el sol que brilla en mi cielo.\" - Maná\\n\"Siempre estaré a tu lado, pase lo que pase.\" - Juanes\\n\"Tú y yo, juntos por siempre.\" - Shakira\\n\"Eres mi razón de vivir, mi amor eterno.\" - Rocío Dúrcal\\n\"Nuestro amor es como un cuento de hadas.\" - Ricardo Montaner\\n\"Soy el viento que te acaricia en la noche.\" - Ricky Martin\\n\"Cada día te amo más, mi amor.\" - Los Inquietos del Norte\\n\"Eres mi sueño hecho realidad.\" - Camila\\n\"El amor es un fuego que arde sin cesar.\" - Pedro Infante\\n\"Eres la razón de mis sonrisas.\" - Alejandro Sanz\\n\"Contigo, el mundo es un lugar mágico.\" - Juanes\\n\"Tú y yo, dos almas en un solo corazón.\" - Marc Anthony\\n\"Eres mi motivación para seguir adelante.\" - Alejandro Sanz\\n\"Amor eterno, amor sincero.\" - Rocío Dúrcal\\n\"Cada día te extraño más, mi amor.\" - Selena\\n\"Soy un niño cuando estoy a tu lado.\" - Ricky Martin\\n\"Eres mi vida, mi razón de ser.\" - Maná\\n\"Baila, baila, baila, que la vida es una fiesta.\" - Raffaella Carrà\\n\"Eres mi canción de amor, mi melodía perfecta.\" - Luis Fonsi\\n\"Te amo más de lo que las palabras pueden expresar.\" - Alejandro Sanz\\n\"Eres la luz que ilumina mi camino.\" - Ricardo Montaner\\n\"Bésame mucho, que tengo miedo a perderte.\" - Consuelo Velázquez\\n\"Mi amor por ti no tiene fin.\" - Juan Gabriel\\n\"Eres el sol que brilla en mi cielo.\" - Maná\\n\"Siempre estaré a tu lado, pase lo que pase.\" - Juanes\\n\"Tú y yo, juntos por siempre.\" - Shakira\\n\"Eres mi razón de vivir, mi amor eterno.\" - Rocío Dúrcal\\n\"Nuestro amor es como un cuento de hadas.\" - Ricardo Montaner\\n\"Soy el viento que te acaricia en la noche.\" - Ricky Martin\\n\"Cada día te amo más, mi amor.\" - Los Inquietos del Norte\\n\"Eres mi sueño hecho realidad.\" - Camila\\n\"El amor es un fuego que arde sin cesar.\" - Pedro Infante\\n\"Eres la razón de mis sonrisas.\" - Alejandro Sanz\\n\"Contigo, el mundo es un lugar mágico.\" - Juanes\\n\"Tú y yo, dos almas en un solo corazón.\" - Marc Anthony\\n\"Eres mi motivación para seguir adelante.\" - Alejandro Sanz\\n\"Amor eterno, amor sincero.\" - Rocío Dúrcal\\n\"Cada día te extraño más, mi amor.\" - Selena\\n\"Soy un niño cuando estoy a tu lado.\" - Ricky Martin\\n\"Eres mi vida, mi razón de ser.\" - Maná\\n\"Baila, baila, baila, que la vida es una fiesta.\" - Raffaella Carrà\\n\"Eres mi canción de amor, mi melodía perfecta.\" - Luis Fonsi\\n\"Te amo más de lo que las palabras pueden expresar.\" - Alejandro Sanz\\n\"Eres la luz que ilumina mi camino.\" - Ricardo Montaner\\n\"Bésame mucho, que tengo miedo a perderte.\" - Consuelo Velázquez\\n\"Mi amor por ti no tiene fin.\" - Juan Gabriel\\n\"Eres el sol que brilla en mi cielo.\" - Maná\\n\"Siempre estaré a tu lado, pase lo que pase.\" - Juanes\\n\"Tú y yo, juntos por siempre.\" - Shakira\\n\"Eres mi razón de vivir, mi amor eterno.\" - Rocío Dúrcal\\n\"Nuestro amor es como un cuento de hadas.\" - Ricardo Montaner\\n\"Soy el viento que te acaricia en la noche.\" - Ricky Martin\\n\"Cada día te amo más, mi amor.\" - Los Inquietos del Norte\\n\"Eres mi sueño hecho realidad.\" - Camila\\n\"El amor es un fuego que arde sin cesar.\" - Pedro Infante\\n\"Eres la razón de mis sonrisas.\" - Alejandro Sanz\\n\"Contigo, el mundo es un lugar mágico.\" - Juanes\\n\"Tú y yo, dos almas en un solo corazón.\" - Marc Anthony\\n\"Eres mi motivación para seguir adelante.\" - Alejandro Sanz\\n\"Amor eterno, amor sincero.\" - Rocío Dúrcal\\n\"Cada día te extraño más, mi amor.\" - Selena'"
      ]
     },
     "execution_count": 4,
     "metadata": {},
     "output_type": "execute_result"
    }
   ],
   "source": [
    "documento"
   ]
  },
  {
   "cell_type": "code",
   "execution_count": 5,
   "id": "e412fbcc-9bbf-4519-ae2d-de31b73d1f75",
   "metadata": {
    "tags": []
   },
   "outputs": [
    {
     "data": {
      "text/plain": [
       "56981"
      ]
     },
     "execution_count": 5,
     "metadata": {},
     "output_type": "execute_result"
    }
   ],
   "source": [
    "len(documento)"
   ]
  },
  {
   "cell_type": "markdown",
   "id": "22035218-9c84-4787-bbff-2f4cf1b557b1",
   "metadata": {
    "tags": []
   },
   "source": [
    "# Preprocesamiento de datos"
   ]
  },
  {
   "cell_type": "code",
   "execution_count": 6,
   "id": "2072af4e-bf6d-42f3-b5c6-01f498597349",
   "metadata": {
    "tags": []
   },
   "outputs": [
    {
     "data": {
      "text/plain": [
       "1001"
      ]
     },
     "execution_count": 6,
     "metadata": {},
     "output_type": "execute_result"
    }
   ],
   "source": [
    "oraciones = documento.split('.')\n",
    "len(oraciones)"
   ]
  },
  {
   "cell_type": "code",
   "execution_count": 7,
   "id": "0c4b0f51-aea2-4251-b989-effcb5658993",
   "metadata": {
    "tags": []
   },
   "outputs": [
    {
     "data": {
      "text/plain": [
       "['\"Baila, baila sin parar, que la vida es una fiesta',\n",
       " '\" - Shakira\\n\"Y es que en tus ojos, yo encuentro la paz',\n",
       " '\" - Carlos Vives\\n\"Me enamoré de una sirena en la orilla del mar']"
      ]
     },
     "execution_count": 7,
     "metadata": {},
     "output_type": "execute_result"
    }
   ],
   "source": [
    "oraciones[0:3]"
   ]
  },
  {
   "cell_type": "code",
   "execution_count": 8,
   "id": "ac37fbc7-22c5-464a-915d-c37b6e2d5ade",
   "metadata": {
    "tags": []
   },
   "outputs": [],
   "source": [
    "oraciones_limpias = []\n",
    "for oracion in oraciones:\n",
    "    tokens = oracion.translate(str.maketrans('','',\n",
    "                                            string.punctuation)).split()\n",
    "    tokens = [word.lower() for word in tokens if word.isalpha()]\n",
    "    if tokens: \n",
    "        oraciones_limpias.append(tokens)"
   ]
  },
  {
   "cell_type": "code",
   "execution_count": 9,
   "id": "39980646-02ac-4909-8a72-339a1980b83b",
   "metadata": {
    "tags": []
   },
   "outputs": [
    {
     "data": {
      "text/plain": [
       "['baila', 'baila', 'sin', 'parar', 'que', 'la', 'vida', 'es', 'una', 'fiesta']"
      ]
     },
     "execution_count": 9,
     "metadata": {},
     "output_type": "execute_result"
    }
   ],
   "source": [
    "oraciones_limpias[0]"
   ]
  },
  {
   "cell_type": "code",
   "execution_count": 10,
   "id": "6f212b00-4733-4306-aecf-451de8b73dd0",
   "metadata": {
    "tags": []
   },
   "outputs": [],
   "source": [
    "model = Word2Vec(sentences=oraciones_limpias,\n",
    "                 vector_size=500, window=5, min_count=1, workers=8)"
   ]
  },
  {
   "cell_type": "code",
   "execution_count": 11,
   "id": "a85a4444-9f59-46fc-8585-cd0d718f14fe",
   "metadata": {
    "tags": []
   },
   "outputs": [],
   "source": [
    "vector = model.wv['vida']"
   ]
  },
  {
   "cell_type": "code",
   "execution_count": 12,
   "id": "0dabfd21-8df0-4d2c-9ca0-474273be4452",
   "metadata": {
    "tags": []
   },
   "outputs": [
    {
     "data": {
      "text/plain": [
       "array([ 4.92209382e-03,  9.80619192e-02,  7.05513209e-02,  1.10879339e-01,\n",
       "       -9.12346616e-02, -1.27086550e-01, -2.03591492e-02,  1.26055866e-01,\n",
       "        2.74358713e-03, -3.05035822e-02, -2.50340234e-02,  7.60468990e-02,\n",
       "       -8.53947084e-03,  1.02675639e-01,  2.98891068e-02, -8.03700089e-02,\n",
       "       -1.15141846e-01, -7.59806260e-02,  6.10594191e-02,  2.14235578e-02,\n",
       "        6.97370842e-02, -2.94150822e-02,  6.48190230e-02, -2.47714240e-02,\n",
       "        2.70630717e-02,  2.16507670e-02, -1.33496905e-02, -9.19031631e-03,\n",
       "       -1.17102757e-01,  3.35515738e-02,  1.26604795e-01, -7.98035506e-03,\n",
       "       -1.89804360e-02, -3.41082364e-03,  1.16227716e-01,  4.40462865e-02,\n",
       "        3.08095161e-02,  1.80176478e-02, -5.81355505e-02, -1.50969461e-01,\n",
       "        1.25251198e-02, -7.46599436e-02, -1.41558260e-01, -3.32671590e-02,\n",
       "       -1.22621849e-01, -8.24357197e-02, -1.20041765e-01,  7.55412057e-02,\n",
       "        3.51231806e-02,  4.01899405e-02, -4.53371555e-02,  1.61827467e-02,\n",
       "       -1.76301338e-02, -1.41599923e-01,  2.50141565e-02, -2.56419256e-02,\n",
       "        4.52173874e-02,  4.55342606e-02,  7.40044890e-03,  3.60311903e-02,\n",
       "        5.34596555e-02,  2.12024152e-02,  5.94899021e-02,  5.92208132e-02,\n",
       "       -7.58473501e-02,  6.47453591e-02, -7.47280791e-02,  6.81118518e-02,\n",
       "        6.22641817e-02,  2.58840658e-02, -8.06486458e-02, -9.35483375e-04,\n",
       "        9.58053023e-02,  3.47196348e-02,  1.45325273e-01,  1.26005828e-01,\n",
       "       -4.17095535e-02,  2.43930370e-02,  7.90457055e-02,  3.22454199e-02,\n",
       "       -8.57984871e-02,  3.64207365e-02, -2.94521339e-02,  1.63246512e-01,\n",
       "       -1.79636061e-01,  6.54482767e-02,  3.47673404e-03,  5.42375818e-02,\n",
       "        6.02644049e-02,  1.21813461e-01,  6.38089925e-02,  1.32046398e-02,\n",
       "       -7.81079978e-02,  7.79763311e-02,  4.65617105e-02,  5.43293767e-02,\n",
       "        8.73588845e-02,  4.76699276e-03,  2.14503482e-02, -3.51608209e-02,\n",
       "       -7.64984116e-02,  3.36229019e-02, -5.27977981e-02,  1.26339525e-01,\n",
       "       -9.57741309e-03, -2.39362270e-02, -8.20124447e-02,  9.53496769e-02,\n",
       "       -4.20108661e-02,  4.33833292e-03,  1.39431814e-02,  2.25556288e-02,\n",
       "       -3.52596678e-02,  5.57868034e-02, -6.48157224e-02,  1.85352694e-02,\n",
       "        8.93028278e-04, -1.31588444e-01, -2.11036317e-02, -6.47641793e-02,\n",
       "       -2.25033332e-02,  3.35085578e-02,  8.24346021e-02, -3.68403718e-02,\n",
       "        6.10731319e-02, -1.13108875e-02, -1.07682236e-01,  1.98080242e-02,\n",
       "       -4.48196940e-02, -4.19045314e-02,  6.67195544e-02,  3.31799574e-02,\n",
       "       -3.69830467e-02, -9.62691680e-02,  3.45263220e-02,  1.45586550e-01,\n",
       "        3.13167758e-02, -5.32545075e-02, -1.21730208e-01, -1.86946064e-01,\n",
       "        3.67556997e-02, -8.36805627e-02,  2.88614985e-02, -2.97537283e-03,\n",
       "        7.35347718e-02,  2.74930969e-02, -6.57810457e-03, -1.52539358e-01,\n",
       "        4.89589795e-02,  8.37534145e-02,  7.71089420e-02, -8.72932281e-03,\n",
       "       -5.53458892e-02,  1.62660629e-01, -1.70541212e-01, -6.90997094e-02,\n",
       "        1.01958811e-01, -8.32248181e-02, -5.25026061e-02,  1.05614722e-01,\n",
       "       -2.52325255e-02, -2.32273676e-02,  7.15114456e-03, -2.07683537e-02,\n",
       "       -9.98761207e-02,  7.68466517e-02,  8.57867226e-02,  1.38122380e-01,\n",
       "        4.19617891e-02,  8.18314329e-02, -3.00562456e-02,  1.76087156e-01,\n",
       "       -2.18010284e-02,  3.16129439e-02,  3.05474200e-03, -3.69488113e-02,\n",
       "       -4.73708995e-02, -3.16732973e-02, -3.86835597e-02,  2.45781336e-02,\n",
       "       -2.74391286e-02,  4.03676508e-03, -1.01518147e-02,  3.90163586e-02,\n",
       "        3.25689651e-02,  1.21617280e-02, -8.02839622e-02,  3.18815522e-02,\n",
       "       -6.32961616e-02,  6.28554747e-02,  1.48417771e-01, -3.52295712e-02,\n",
       "        1.09622948e-01,  1.63683947e-02,  5.38699888e-02,  1.28969131e-02,\n",
       "       -2.67235264e-02, -4.70858850e-02,  7.01072365e-02, -1.94014236e-02,\n",
       "       -1.00749761e-01,  3.04684043e-02,  5.37842028e-02, -5.85919134e-02,\n",
       "        2.69497391e-02,  2.77202632e-02,  4.82339002e-02, -1.22978956e-01,\n",
       "       -8.29694718e-02, -4.45408300e-02,  3.02145015e-02, -7.54835457e-02,\n",
       "       -1.22069605e-01, -8.95404667e-02,  7.79580744e-03, -9.14882421e-02,\n",
       "       -3.61558348e-02,  2.98737758e-03, -6.31982535e-02, -9.20859352e-02,\n",
       "        1.84871089e-02,  1.28448859e-01,  4.98703681e-02,  3.86451185e-02,\n",
       "       -1.91425905e-02,  1.04601718e-02,  6.50168955e-02, -9.05002505e-02,\n",
       "       -2.50523426e-02,  1.10740118e-01,  1.07292663e-02, -1.26060173e-02,\n",
       "        1.22638056e-02, -4.26087305e-02,  7.43778702e-03, -9.39716771e-03,\n",
       "       -6.12123236e-02, -2.02422485e-01,  1.86162502e-01,  9.62151494e-03,\n",
       "       -8.80683213e-02, -1.04894996e-01, -1.22328930e-01,  1.27814591e-01,\n",
       "        2.44775694e-03, -7.84529597e-02,  4.31002211e-03,  9.77261737e-02,\n",
       "        7.12775886e-02,  1.91290826e-02,  3.98022421e-02, -1.47148073e-01,\n",
       "        1.44314533e-02,  2.49168789e-03, -3.09362598e-02,  5.31694405e-02,\n",
       "        4.66137379e-02,  1.25961393e-01, -1.23049691e-01,  2.29055565e-02,\n",
       "       -1.09147988e-01,  1.71976108e-02, -1.39069125e-01, -1.85091998e-02,\n",
       "        6.98246136e-02,  5.23427390e-02, -2.43409723e-02,  1.62783250e-01,\n",
       "       -7.06503540e-02, -1.78670995e-02, -6.42710850e-02, -2.18416870e-04,\n",
       "        1.34398580e-01, -2.30321512e-02, -8.99022631e-03, -1.32319815e-02,\n",
       "       -8.39972496e-03, -1.52730852e-01, -4.12129834e-02,  1.24360789e-02,\n",
       "        1.69842299e-02,  1.28541425e-01, -9.81049687e-02, -3.32135521e-02,\n",
       "        1.65178895e-01, -1.29437387e-01,  1.01667620e-01, -9.37525630e-02,\n",
       "        6.69218078e-02,  2.03440003e-02, -2.07664538e-02,  1.49578840e-01,\n",
       "        4.77537848e-02,  7.04703962e-06,  8.41087475e-02,  2.12244038e-02,\n",
       "        1.56045437e-01, -1.52275503e-01,  7.98737481e-02, -4.09131348e-02,\n",
       "       -7.20062926e-02,  5.09735048e-02, -1.87913086e-02, -2.73188725e-02,\n",
       "        3.45464870e-02, -1.25269204e-01, -2.26553180e-03,  3.07492055e-02,\n",
       "       -8.28955695e-03, -8.64944458e-02, -2.19270717e-02, -1.13894194e-01,\n",
       "       -8.94924346e-03, -1.01339379e-02,  7.29050785e-02, -2.14513135e-03,\n",
       "       -7.66443694e-03, -4.37251776e-02,  6.49022609e-02, -3.77536677e-02,\n",
       "        1.09687470e-01, -5.39236926e-02,  2.26444080e-02, -1.91090461e-02,\n",
       "       -6.01165630e-02, -1.97163224e-02, -5.24176098e-02, -1.01540774e-01,\n",
       "        5.91841973e-02,  2.65101958e-02,  3.65722924e-02,  1.70550011e-02,\n",
       "        1.51197519e-02,  2.62823179e-02,  4.35167663e-02, -9.27113146e-02,\n",
       "       -5.19007109e-02,  8.24695751e-02, -7.37198591e-02, -1.33954898e-01,\n",
       "       -3.74209173e-02,  4.67374511e-02,  1.69757932e-01, -7.89833888e-02,\n",
       "        2.56577204e-03,  1.37782833e-02, -1.89917669e-01, -1.45659614e-02,\n",
       "        6.44366145e-02,  1.06744900e-01,  4.28949185e-02,  5.21355309e-03,\n",
       "       -1.49752915e-01,  9.91202444e-02, -9.75018814e-02,  1.28726467e-01,\n",
       "       -5.89308813e-02, -4.87599708e-02, -8.20431858e-02, -1.44065572e-02,\n",
       "        3.29501415e-03,  7.48972595e-02, -1.04901604e-02,  5.05132228e-02,\n",
       "        4.75144349e-02,  2.61745765e-03,  1.03830092e-01,  2.68572494e-02,\n",
       "       -1.66830570e-01,  7.00127929e-02,  3.42153832e-02, -1.18688323e-01,\n",
       "        2.41192169e-02, -4.84628938e-02,  3.43405269e-02, -7.62208253e-02,\n",
       "       -9.93764494e-03,  3.10904458e-02,  5.25422534e-03, -4.44278456e-02,\n",
       "        1.04448065e-01,  4.42234352e-02,  1.44498602e-01,  5.76864108e-02,\n",
       "        4.40363847e-02,  7.24972785e-02,  3.95738818e-02,  4.98166904e-02,\n",
       "        6.12739548e-02,  3.15907449e-02,  3.24906968e-02,  7.16875270e-02,\n",
       "       -6.15655445e-02,  7.59232491e-02,  1.07040197e-01,  8.33646357e-02,\n",
       "        3.35884318e-02, -2.18844265e-02, -1.95774864e-02,  1.38920471e-01,\n",
       "       -6.45824075e-02,  6.05794415e-02, -1.10445179e-01, -1.19882941e-01,\n",
       "       -7.86590856e-03, -1.46994337e-01,  1.77606810e-02,  8.63838941e-02,\n",
       "        5.06327450e-02,  1.74522065e-02, -5.05999997e-02, -1.22566886e-01,\n",
       "       -6.11949638e-02, -5.43312430e-02,  6.62042797e-02,  5.42143844e-02,\n",
       "        7.82432407e-02, -1.10197723e-01,  3.14856656e-02, -5.48191257e-02,\n",
       "       -5.67844398e-02,  7.29965642e-02, -1.01600938e-01,  6.75155446e-02,\n",
       "       -4.90576923e-02,  2.61331555e-02, -6.12732284e-02, -1.36113232e-02,\n",
       "       -2.30905041e-02, -9.78039205e-02, -1.08161986e-01, -8.53505824e-03,\n",
       "       -1.70977239e-03, -2.69424226e-02, -6.04405776e-02,  8.76773149e-02,\n",
       "       -6.23445958e-02, -9.43576638e-03, -4.57469374e-02,  2.05078907e-02,\n",
       "        3.82027756e-05, -7.44806305e-02,  7.51250163e-02,  2.33814362e-02,\n",
       "        1.60784319e-01,  4.34480160e-02,  1.35013893e-01,  6.79255575e-02,\n",
       "       -1.40244439e-01, -2.22788937e-02,  3.72620188e-02,  1.77928396e-02,\n",
       "       -6.08819760e-02, -5.28556816e-02, -7.66778656e-04, -6.53870031e-02,\n",
       "       -8.56886990e-03, -9.45764259e-02,  2.91817747e-02, -3.74665745e-02,\n",
       "        7.61419758e-02,  3.67119908e-02, -5.64537607e-02, -3.40862684e-02,\n",
       "       -1.04169413e-01,  6.08529001e-02, -1.21649899e-01, -1.36590257e-01,\n",
       "       -4.18119505e-02,  6.83347806e-02, -4.46988977e-02, -5.27590252e-02,\n",
       "        1.15706086e-01, -1.13793783e-01,  1.64676383e-01,  8.69856775e-02,\n",
       "        1.01573147e-01,  1.58182606e-02, -7.94013143e-02, -9.32104513e-02,\n",
       "       -2.95574497e-02, -8.60601887e-02, -7.79651925e-02,  1.25094816e-01,\n",
       "        7.17618465e-02,  6.98436648e-02,  1.69787835e-02,  9.21954885e-02,\n",
       "        6.46665394e-02, -4.65934388e-02,  1.00495681e-01, -1.28360922e-02,\n",
       "        9.22224149e-02, -2.34238468e-02,  4.33903411e-02,  2.71569863e-02,\n",
       "       -6.35592937e-02, -9.98598337e-02, -7.00414479e-02, -1.69527847e-02],\n",
       "      dtype=float32)"
      ]
     },
     "execution_count": 12,
     "metadata": {},
     "output_type": "execute_result"
    }
   ],
   "source": [
    "vector"
   ]
  },
  {
   "cell_type": "code",
   "execution_count": 13,
   "id": "2dbc6e7d-af18-4496-bdf3-f08fba1837e2",
   "metadata": {
    "tags": []
   },
   "outputs": [
    {
     "data": {
      "text/plain": [
       "[('que', 0.9998073577880859),\n",
       " ('la', 0.9997963905334473),\n",
       " ('es', 0.999777615070343),\n",
       " ('si', 0.9997717142105103),\n",
       " ('de', 0.9997677206993103),\n",
       " ('no', 0.9997652173042297),\n",
       " ('el', 0.9997546672821045),\n",
       " ('mi', 0.9997442364692688),\n",
       " ('y', 0.9997439980506897),\n",
       " ('amor', 0.9997380375862122)]"
      ]
     },
     "execution_count": 13,
     "metadata": {},
     "output_type": "execute_result"
    }
   ],
   "source": [
    "palabras_cercanas = model.wv.most_similar(\"vida\", topn=10)\n",
    "palabras_cercanas"
   ]
  },
  {
   "cell_type": "code",
   "execution_count": 14,
   "id": "5ffba775-e11d-47e1-bdf8-0fb50919b500",
   "metadata": {
    "tags": []
   },
   "outputs": [
    {
     "data": {
      "text/plain": [
       "[('que', 0.9998073577880859),\n",
       " ('la', 0.9997963905334473),\n",
       " ('es', 0.999777615070343),\n",
       " ('si', 0.9997717142105103),\n",
       " ('de', 0.9997677206993103),\n",
       " ('no', 0.9997652173042297),\n",
       " ('el', 0.9997546672821045),\n",
       " ('mi', 0.9997442364692688),\n",
       " ('y', 0.9997439980506897),\n",
       " ('amor', 0.9997380375862122)]"
      ]
     },
     "execution_count": 14,
     "metadata": {},
     "output_type": "execute_result"
    }
   ],
   "source": [
    "palabras_cercanas = model.wv.most_similar(\"vida\", topn=10)\n",
    "palabras_cercanas"
   ]
  },
  {
   "cell_type": "code",
   "execution_count": 15,
   "id": "817c4c82-cdc2-4109-a062-cf3168d42368",
   "metadata": {
    "tags": []
   },
   "outputs": [
    {
     "data": {
      "text/plain": [
       "[('que', 0.9998693466186523),\n",
       " ('no', 0.9998564124107361),\n",
       " ('si', 0.9998539686203003),\n",
       " ('de', 0.9998514652252197),\n",
       " ('mi', 0.9998475909233093),\n",
       " ('un', 0.9998472332954407),\n",
       " ('la', 0.9998447299003601),\n",
       " ('por', 0.9998434782028198),\n",
       " ('el', 0.9998422265052795),\n",
       " ('te', 0.9998307824134827)]"
      ]
     },
     "execution_count": 15,
     "metadata": {},
     "output_type": "execute_result"
    }
   ],
   "source": [
    "palabras_cercanas = model.wv.most_similar(\"amor\", topn=10)\n",
    "palabras_cercanas"
   ]
  },
  {
   "cell_type": "code",
   "execution_count": 16,
   "id": "ae46ba4f-9d6e-441b-b79d-1cf42ed21ab6",
   "metadata": {
    "tags": []
   },
   "outputs": [
    {
     "data": {
      "text/plain": [
       "[('amor', 0.999600887298584),\n",
       " ('de', 0.9995915293693542),\n",
       " ('que', 0.9995889067649841),\n",
       " ('no', 0.9995816946029663),\n",
       " ('mi', 0.999578595161438),\n",
       " ('para', 0.9995719790458679),\n",
       " ('si', 0.9995677471160889),\n",
       " ('eres', 0.9995649456977844),\n",
       " ('la', 0.9995539784431458),\n",
       " ('por', 0.9995496869087219)]"
      ]
     },
     "execution_count": 16,
     "metadata": {},
     "output_type": "execute_result"
    }
   ],
   "source": [
    "palabras_cercanas = model.wv.most_similar(\"vivir\", topn=10)\n",
    "palabras_cercanas"
   ]
  },
  {
   "cell_type": "code",
   "execution_count": 17,
   "id": "0e0109a5-a9a6-4387-a4fe-1e9594cc06be",
   "metadata": {
    "tags": []
   },
   "outputs": [],
   "source": [
    "model.save(\"Canciones.model\")\n",
    "modelo_cargado = Word2Vec.load(\"Canciones.model\")"
   ]
  },
  {
   "cell_type": "code",
   "execution_count": 18,
   "id": "8f6c8c9f-efe1-496f-aadc-102915775d7f",
   "metadata": {
    "tags": []
   },
   "outputs": [
    {
     "data": {
      "text/plain": [
       "[('que', 0.9998073577880859),\n",
       " ('la', 0.9997963905334473),\n",
       " ('es', 0.999777615070343),\n",
       " ('si', 0.9997717142105103),\n",
       " ('de', 0.9997677206993103),\n",
       " ('no', 0.9997652173042297),\n",
       " ('el', 0.9997546672821045),\n",
       " ('mi', 0.9997442364692688),\n",
       " ('y', 0.9997439980506897),\n",
       " ('amor', 0.9997380375862122)]"
      ]
     },
     "execution_count": 18,
     "metadata": {},
     "output_type": "execute_result"
    }
   ],
   "source": [
    "palabras_cercanas = modelo_cargado.wv.most_similar(\"vida\", topn=10)\n",
    "palabras_cercanas"
   ]
  },
  {
   "cell_type": "code",
   "execution_count": 19,
   "id": "cd3e0bb3-f1b7-40ab-83f5-c1e055ed3cf8",
   "metadata": {
    "tags": []
   },
   "outputs": [],
   "source": [
    "from sklearn.decomposition import PCA\n",
    "from matplotlib import pyplot"
   ]
  },
  {
   "cell_type": "code",
   "execution_count": 20,
   "id": "b55b5597-359a-4e7c-90a3-2e853f03071d",
   "metadata": {
    "tags": []
   },
   "outputs": [],
   "source": [
    "## Next you have some necessary steps part of the transformation of 300dim to 2D in order to plot\n",
    "pca = PCA(n_components=2)"
   ]
  },
  {
   "cell_type": "code",
   "execution_count": 21,
   "id": "f6a7b245-1bf3-45cd-b521-9ab7ca07e57e",
   "metadata": {
    "tags": []
   },
   "outputs": [
    {
     "data": {
      "image/png": "[encoded data removed]",
      "text/plain": [
       "<Figure size 640x480 with 1 Axes>"
      ]
     },
     "metadata": {},
     "output_type": "display_data"
    }
   ],
   "source": [
    "# you can think of a group of words that make sense to be together/far away to view in the plot\n",
    "toplot_words = ['amor', 'vida', 'feliz', 'corazón',  #words about positive feelings \n",
    "                'vivir', 'realidad', 'agua', 'llorar',  #\n",
    "                'baila', 'fiesta', 'fuego', 'cuento',  #media-related words\n",
    "                'eterno', 'cielo', 'canción', 'amar', 'adelante', 'sueño', 'ojos'  #politics-related words\n",
    "                ]\n",
    "\n",
    "toplot_vecs = [model.wv[w] for w in toplot_words]  #getting the vectors for the specific words in toplot_words\n",
    "result = pca.fit_transform(toplot_vecs)  #call to pca for transformation\n",
    "\n",
    "# finally plotting...\n",
    "pyplot.scatter(result[:, 0], result[:, 1])\n",
    "for i, word in enumerate(toplot_words):\n",
    "    pyplot.annotate(word, xy=(result[i, 0], result[i, 1]))\n",
    "pyplot.show()"
   ]
  },
  {
   "cell_type": "markdown",
   "id": "c3e92471-044c-443f-9b82-6b3e67b07678",
   "metadata": {
    "tags": []
   },
   "source": [
    "# Analogias"
   ]
  },
  {
   "cell_type": "code",
   "execution_count": 22,
   "id": "019aa82d-0e67-453d-bc3a-0d6affed8eea",
   "metadata": {
    "tags": []
   },
   "outputs": [
    {
     "data": {
      "text/plain": [
       "[('el', 0.9974050521850586),\n",
       " ('se', 0.9973604679107666),\n",
       " ('de', 0.997359573841095),\n",
       " ('la', 0.9973589181900024),\n",
       " ('es', 0.9973569512367249),\n",
       " ('para', 0.9973387122154236),\n",
       " ('como', 0.9973249435424805),\n",
       " ('que', 0.9973206520080566),\n",
       " ('si', 0.9973195195198059),\n",
       " ('cielo', 0.9973130226135254)]"
      ]
     },
     "execution_count": 22,
     "metadata": {},
     "output_type": "execute_result"
    }
   ],
   "source": [
    "# Analogias\n",
    "similar_words = model.wv.most_similar(positive=['amor', 'feliz'], negative=['dolor'], topn=10)\n",
    "similar_words"
   ]
  },
  {
   "cell_type": "code",
   "execution_count": 23,
   "id": "8a4a0fa5-b51a-422d-9da6-827835382b3f",
   "metadata": {
    "tags": []
   },
   "outputs": [
    {
     "data": {
      "text/plain": [
       "[('maná', 0.9987181425094604),\n",
       " ('es', 0.9986913800239563),\n",
       " ('una', 0.9986825585365295),\n",
       " ('la', 0.9986820220947266),\n",
       " ('vida', 0.9986706376075745),\n",
       " ('que', 0.9986532926559448),\n",
       " ('tu', 0.9986324310302734),\n",
       " ('soy', 0.9985966682434082),\n",
       " ('un', 0.9985923171043396),\n",
       " ('para', 0.9985918402671814)]"
      ]
     },
     "execution_count": 23,
     "metadata": {},
     "output_type": "execute_result"
    }
   ],
   "source": [
    "similar_words = model.wv.most_similar(positive=['baila', 'amar'], negative=['llorar'], topn=10)\n",
    "similar_words"
   ]
  },
  {
   "cell_type": "code",
   "execution_count": 24,
   "id": "c2a9756a-2a69-4d30-ba48-35807c866e35",
   "metadata": {
    "tags": []
   },
   "outputs": [
    {
     "data": {
      "text/plain": [
       "[('te', 0.9982593655586243),\n",
       " ('que', 0.9982531666755676),\n",
       " ('en', 0.9982467889785767),\n",
       " ('un', 0.9982402324676514),\n",
       " ('soy', 0.998232364654541),\n",
       " ('y', 0.9982317686080933),\n",
       " ('el', 0.9982268214225769),\n",
       " ('no', 0.9982226490974426),\n",
       " ('por', 0.9982139468193054),\n",
       " ('como', 0.998206377029419)]"
      ]
     },
     "execution_count": 24,
     "metadata": {},
     "output_type": "execute_result"
    }
   ],
   "source": [
    "similar_words = model.wv.most_similar(positive=['cielo', 'linda'], negative=['llorar'], topn=10)\n",
    "similar_words"
   ]
  },
  {
   "cell_type": "code",
   "execution_count": 25,
   "id": "cd6b884b-5767-4cee-a42c-e3c5b94d6c9f",
   "metadata": {
    "tags": []
   },
   "outputs": [
    {
     "data": {
      "text/plain": [
       "[('se', 0.997640073299408),\n",
       " ('mi', 0.9976257681846619),\n",
       " ('amor', 0.9976183772087097),\n",
       " ('el', 0.9976006150245667),\n",
       " ('de', 0.997574508190155),\n",
       " ('que', 0.997572660446167),\n",
       " ('un', 0.9975712895393372),\n",
       " ('no', 0.9975705146789551),\n",
       " ('la', 0.9975690245628357),\n",
       " ('ti', 0.997563362121582)]"
      ]
     },
     "execution_count": 25,
     "metadata": {},
     "output_type": "execute_result"
    }
   ],
   "source": [
    "similar_words = model.wv.most_similar(positive=['feliz', 'amar'], negative=['regresa'], topn=10)\n",
    "similar_words"
   ]
  },
  {
   "cell_type": "code",
   "execution_count": 26,
   "id": "9ac907bf-6e9e-4e51-aaaa-769de255431f",
   "metadata": {
    "tags": []
   },
   "outputs": [
    {
     "data": {
      "text/plain": [
       "[('es', 0.9962650537490845),\n",
       " ('que', 0.9962545037269592),\n",
       " ('del', 0.9962429404258728),\n",
       " ('y', 0.9962420463562012),\n",
       " ('si', 0.9962417483329773),\n",
       " ('dos', 0.9962382912635803),\n",
       " ('te', 0.9962370991706848),\n",
       " ('como', 0.9962316155433655),\n",
       " ('mi', 0.9962285161018372),\n",
       " ('el', 0.9962241649627686)]"
      ]
     },
     "execution_count": 26,
     "metadata": {},
     "output_type": "execute_result"
    }
   ],
   "source": [
    "similar_words = model.wv.most_similar(positive=['debilidad', 'tiempo'], negative=['refugio'], topn=10)\n",
    "similar_words"
   ]
  },
  {
   "cell_type": "code",
   "execution_count": 27,
   "id": "e4fbd0e3-4069-4ea9-8721-dcaece6baf6b",
   "metadata": {
    "tags": []
   },
   "outputs": [
    {
     "data": {
      "text/plain": [
       "[('los', 0.9974968433380127),\n",
       " ('la', 0.9974425435066223),\n",
       " ('mi', 0.9974235892295837),\n",
       " ('y', 0.997423529624939),\n",
       " ('para', 0.9974210262298584),\n",
       " ('no', 0.9974197745323181),\n",
       " ('de', 0.9974187016487122),\n",
       " ('tú', 0.9974105954170227),\n",
       " ('que', 0.997407853603363),\n",
       " ('una', 0.9974064826965332)]"
      ]
     },
     "execution_count": 27,
     "metadata": {},
     "output_type": "execute_result"
    }
   ],
   "source": [
    "similar_words = model.wv.most_similar(positive=['sueños', 'llorar'], negative=['callado'], topn=10)\n",
    "similar_words"
   ]
  },
  {
   "cell_type": "code",
   "execution_count": 28,
   "id": "11462357-2022-47b5-bc28-b782a3e2e0af",
   "metadata": {
    "tags": []
   },
   "outputs": [
    {
     "data": {
      "text/plain": [
       "[('que', 0.9987494349479675),\n",
       " ('ella', 0.9987414479255676),\n",
       " ('el', 0.9987373948097229),\n",
       " ('quiero', 0.9987371563911438),\n",
       " ('y', 0.9987332820892334),\n",
       " ('para', 0.998732328414917),\n",
       " ('si', 0.9987309575080872),\n",
       " ('un', 0.9987288117408752),\n",
       " ('es', 0.9987280964851379),\n",
       " ('te', 0.9987272620201111)]"
      ]
     },
     "execution_count": 28,
     "metadata": {},
     "output_type": "execute_result"
    }
   ],
   "source": [
    "similar_words = model.wv.most_similar(positive=['despacito', 'mundo'], negative=['tiempo'], topn=10)\n",
    "similar_words"
   ]
  },
  {
   "cell_type": "code",
   "execution_count": 29,
   "id": "28a8a005-07d6-4dae-a720-5ed88c1cb36a",
   "metadata": {
    "tags": []
   },
   "outputs": [
    {
     "data": {
      "text/plain": [
       "[('eres', 0.9979124665260315),\n",
       " ('mi', 0.9978993535041809),\n",
       " ('esa', 0.9978986978530884),\n",
       " ('no', 0.997896134853363),\n",
       " ('un', 0.9978960156440735),\n",
       " ('y', 0.9978870749473572),\n",
       " ('a', 0.9978783130645752),\n",
       " ('si', 0.997873067855835),\n",
       " ('del', 0.9978728294372559),\n",
       " ('que', 0.9978650808334351)]"
      ]
     },
     "execution_count": 29,
     "metadata": {},
     "output_type": "execute_result"
    }
   ],
   "source": [
    "similar_words = model.wv.most_similar(positive=['sueño', 'dolor'], negative=['vida'], topn=10)\n",
    "similar_words"
   ]
  },
  {
   "cell_type": "code",
   "execution_count": 30,
   "id": "ff08566e-b117-451d-acb9-1d2cdcb4b3ba",
   "metadata": {
    "tags": []
   },
   "outputs": [
    {
     "data": {
      "text/plain": [
       "[('y', 0.9973393082618713),\n",
       " ('por', 0.9973134994506836),\n",
       " ('un', 0.9973017573356628),\n",
       " ('en', 0.9972976446151733),\n",
       " ('yo', 0.9972935914993286),\n",
       " ('dos', 0.9972851872444153),\n",
       " ('de', 0.9972756505012512),\n",
       " ('mi', 0.9972681999206543),\n",
       " ('no', 0.9972678422927856),\n",
       " ('una', 0.9972643256187439)]"
      ]
     },
     "execution_count": 30,
     "metadata": {},
     "output_type": "execute_result"
    }
   ],
   "source": [
    "similar_words = model.wv.most_similar(positive=['beso', 'promesa'], negative=['perderte'], topn=10)\n",
    "similar_words"
   ]
  },
  {
   "cell_type": "code",
   "execution_count": 31,
   "id": "bd64ed9c-0d38-4ea2-80b0-80b69f03d793",
   "metadata": {
    "tags": []
   },
   "outputs": [
    {
     "data": {
      "text/plain": [
       "[('por', 0.9975991249084473),\n",
       " ('no', 0.9975868463516235),\n",
       " ('eres', 0.9975863695144653),\n",
       " ('de', 0.9975807666778564),\n",
       " ('y', 0.9975787401199341),\n",
       " ('como', 0.9975459575653076),\n",
       " ('en', 0.9975448846817017),\n",
       " ('si', 0.9975249171257019),\n",
       " ('sol', 0.9975232481956482),\n",
       " ('el', 0.997505247592926)]"
      ]
     },
     "execution_count": 31,
     "metadata": {},
     "output_type": "execute_result"
    }
   ],
   "source": [
    "similar_words = model.wv.most_similar(positive=['despedida', 'regresa'], negative=['miedo'], topn=10)\n",
    "similar_words"
   ]
  },
  {
   "cell_type": "markdown",
   "id": "adf08bad-875b-4eff-a53a-ffccdc6e00ec",
   "metadata": {},
   "source": [
    "# Similaridades"
   ]
  },
  {
   "cell_type": "code",
   "execution_count": 32,
   "id": "502829f8-c46e-4527-a23e-482b8eb35764",
   "metadata": {
    "tags": []
   },
   "outputs": [
    {
     "name": "stdout",
     "output_type": "stream",
     "text": [
      "Similarity between \"amor\" and \"feliz\": 0.99915016\n",
      "Similarity between \"amor\" and \"dolor\": 0.99818623\n",
      "Similarity between \"amor\" and \"llorar\": 0.99956536\n",
      "Similarity between \"querer\" and \"llorar\": 0.8616605\n",
      "Similarity between \"feliz\" and \"camino\": 0.99881953\n",
      "Similarity between \"tiempo\" and \"llorar\": 0.999228\n",
      "Similarity between \"luz\" and \"vida\": 0.9993726\n",
      "Similarity between \"duela\" and \"piel\": 0.9989676\n",
      "Similarity between \"amor\" and \"rosa\": 0.9987431\n",
      "Similarity between \"cielo\" and \"linda\": 0.99871117\n"
     ]
    }
   ],
   "source": [
    "# Calcular similarity between word vectors\n",
    "sim1 = model.wv.similarity('amor', 'feliz')\n",
    "sim2 = model.wv.similarity('amor', 'dolor')\n",
    "sim3 = model.wv.similarity('amor', 'llorar')\n",
    "sim4 = model.wv.similarity('querer', 'llorar')\n",
    "sim5 = model.wv.similarity('feliz', 'camino')\n",
    "sim6 = model.wv.similarity('tiempo', 'llorar')\n",
    "sim7 = model.wv.similarity('luz', 'vida')\n",
    "sim8 = model.wv.similarity('duela', 'piel')\n",
    "sim9 = model.wv.similarity('amor', 'rosa')\n",
    "sim10 = model.wv.similarity('cielo', 'linda')\n",
    "\n",
    "print('Similarity between \"amor\" and \"feliz\":', sim1)\n",
    "print('Similarity between \"amor\" and \"dolor\":', sim2)\n",
    "print('Similarity between \"amor\" and \"llorar\":', sim3)\n",
    "print('Similarity between \"querer\" and \"llorar\":', sim4)\n",
    "print('Similarity between \"feliz\" and \"camino\":', sim5)\n",
    "print('Similarity between \"tiempo\" and \"llorar\":', sim6)\n",
    "print('Similarity between \"luz\" and \"vida\":', sim7)\n",
    "print('Similarity between \"duela\" and \"piel\":', sim8)\n",
    "print('Similarity between \"amor\" and \"rosa\":', sim9)\n",
    "print('Similarity between \"cielo\" and \"linda\":', sim10)"
   ]
  },
  {
   "cell_type": "markdown",
   "id": "67e35592-71af-46ea-8292-1be02002c2f0",
   "metadata": {},
   "source": [
    "## 4. Conclusiones\n",
    "\n",
    "* Word2Vec permite a las máquinas entender el significado de las palabras en función de su contexto, lo que mejora la comprensión semántica en aplicaciones de procesamiento de lenguaje natural. Esto facilita la detección de similitudes, analogías y relaciones entre palabras, lo que a su vez aumenta la precisión en tareas de NLP.\n",
    "\n",
    "*  Las representaciones vectoriales generadas por Word2Vec son ampliamente aplicables en una variedad de campos de la inteligencia artificial, como clasificación de texto, traducción automática, análisis de sentimiento, recomendación de contenido y chatbots.\n",
    "\n",
    "## 5. Referencias\n",
    "\n",
    "\\[1] https://www.youtube.com/watch?v=zk7gvC8O8rM\n",
    "\\[2] https://github.com/lore10/GEITEC_curso\n",
    "\n",
    "## 6. Link de Github Proyecto\n"
   ]
  }
 ],
 "metadata": {
  "kernelspec": {
   "display_name": "Python 3 (ipykernel)",
   "language": "python",
   "name": "python3"
  },
  "language_info": {
   "codemirror_mode": {
    "name": "ipython",
    "version": 3
   },
   "file_extension": ".py",
   "mimetype": "text/x-python",
   "name": "python",
   "nbconvert_exporter": "python",
   "pygments_lexer": "ipython3",
   "version": "3.11.3"
  }
 },
 "nbformat": 4,
 "nbformat_minor": 5
}
